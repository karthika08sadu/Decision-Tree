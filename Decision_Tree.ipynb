{
 "cells": [
  {
   "cell_type": "code",
   "execution_count": 126,
   "id": "7c79b596-b929-4ba1-93f2-bb71321a79f3",
   "metadata": {},
   "outputs": [],
   "source": [
    "# Data manipulation & numerical computation\n",
    "import pandas as pd\n",
    "import numpy as np \n",
    "# data visualization\n",
    "import matplotlib.pyplot as plt \n",
    "import seaborn as sns\n",
    "# Decision tree model\n",
    "from sklearn.tree import DecisionTreeClassifier,plot_tree,export_text\n",
    "# Preprocessing and feature engineering\n",
    "from sklearn.preprocessing import LabelEncoder,OneHotEncoder,StandardScaler\n",
    "from sklearn.model_selection import train_test_split,GridSearchCV\n",
    "# model evaluation\n",
    "from sklearn.metrics import accuracy_score, precision_score, recall_score, f1_score, roc_auc_score, confusion_matrix\n",
    "\n",
    "# ignore warnings\n",
    "import warnings\n",
    "warnings.filterwarnings(\"ignore\")"
   ]
  },
  {
   "cell_type": "code",
   "execution_count": 127,
   "id": "7641bd19-73d1-4665-8bb1-a8d1f39d3655",
   "metadata": {},
   "outputs": [],
   "source": [
    "df=pd.read_excel(\"heart_disease.xlsx\",sheet_name=\"Heart_disease\")"
   ]
  },
  {
   "cell_type": "code",
   "execution_count": 128,
   "id": "47b916ff-c504-44b7-8e3f-abaddfefbbb5",
   "metadata": {},
   "outputs": [
    {
     "data": {
      "text/html": [
       "<div>\n",
       "<style scoped>\n",
       "    .dataframe tbody tr th:only-of-type {\n",
       "        vertical-align: middle;\n",
       "    }\n",
       "\n",
       "    .dataframe tbody tr th {\n",
       "        vertical-align: top;\n",
       "    }\n",
       "\n",
       "    .dataframe thead th {\n",
       "        text-align: right;\n",
       "    }\n",
       "</style>\n",
       "<table border=\"1\" class=\"dataframe\">\n",
       "  <thead>\n",
       "    <tr style=\"text-align: right;\">\n",
       "      <th></th>\n",
       "      <th>age</th>\n",
       "      <th>sex</th>\n",
       "      <th>cp</th>\n",
       "      <th>trestbps</th>\n",
       "      <th>chol</th>\n",
       "      <th>fbs</th>\n",
       "      <th>restecg</th>\n",
       "      <th>thalch</th>\n",
       "      <th>exang</th>\n",
       "      <th>oldpeak</th>\n",
       "      <th>slope</th>\n",
       "      <th>thal</th>\n",
       "      <th>num</th>\n",
       "    </tr>\n",
       "  </thead>\n",
       "  <tbody>\n",
       "    <tr>\n",
       "      <th>0</th>\n",
       "      <td>63</td>\n",
       "      <td>Male</td>\n",
       "      <td>typical angina</td>\n",
       "      <td>145</td>\n",
       "      <td>233</td>\n",
       "      <td>True</td>\n",
       "      <td>lv hypertrophy</td>\n",
       "      <td>150</td>\n",
       "      <td>False</td>\n",
       "      <td>2.3</td>\n",
       "      <td>downsloping</td>\n",
       "      <td>fixed defect</td>\n",
       "      <td>0</td>\n",
       "    </tr>\n",
       "    <tr>\n",
       "      <th>1</th>\n",
       "      <td>41</td>\n",
       "      <td>Male</td>\n",
       "      <td>atypical angina</td>\n",
       "      <td>135</td>\n",
       "      <td>203</td>\n",
       "      <td>False</td>\n",
       "      <td>normal</td>\n",
       "      <td>132</td>\n",
       "      <td>False</td>\n",
       "      <td>0.0</td>\n",
       "      <td>flat</td>\n",
       "      <td>fixed defect</td>\n",
       "      <td>0</td>\n",
       "    </tr>\n",
       "    <tr>\n",
       "      <th>2</th>\n",
       "      <td>57</td>\n",
       "      <td>Male</td>\n",
       "      <td>asymptomatic</td>\n",
       "      <td>140</td>\n",
       "      <td>192</td>\n",
       "      <td>False</td>\n",
       "      <td>normal</td>\n",
       "      <td>148</td>\n",
       "      <td>False</td>\n",
       "      <td>0.4</td>\n",
       "      <td>flat</td>\n",
       "      <td>fixed defect</td>\n",
       "      <td>0</td>\n",
       "    </tr>\n",
       "    <tr>\n",
       "      <th>3</th>\n",
       "      <td>52</td>\n",
       "      <td>Male</td>\n",
       "      <td>typical angina</td>\n",
       "      <td>118</td>\n",
       "      <td>186</td>\n",
       "      <td>False</td>\n",
       "      <td>lv hypertrophy</td>\n",
       "      <td>190</td>\n",
       "      <td>False</td>\n",
       "      <td>0.0</td>\n",
       "      <td>flat</td>\n",
       "      <td>fixed defect</td>\n",
       "      <td>0</td>\n",
       "    </tr>\n",
       "    <tr>\n",
       "      <th>4</th>\n",
       "      <td>57</td>\n",
       "      <td>Male</td>\n",
       "      <td>asymptomatic</td>\n",
       "      <td>110</td>\n",
       "      <td>201</td>\n",
       "      <td>False</td>\n",
       "      <td>normal</td>\n",
       "      <td>126</td>\n",
       "      <td>True</td>\n",
       "      <td>1.5</td>\n",
       "      <td>flat</td>\n",
       "      <td>fixed defect</td>\n",
       "      <td>0</td>\n",
       "    </tr>\n",
       "  </tbody>\n",
       "</table>\n",
       "</div>"
      ],
      "text/plain": [
       "   age   sex               cp  trestbps  chol    fbs         restecg  thalch  \\\n",
       "0   63  Male   typical angina       145   233   True  lv hypertrophy     150   \n",
       "1   41  Male  atypical angina       135   203  False          normal     132   \n",
       "2   57  Male     asymptomatic       140   192  False          normal     148   \n",
       "3   52  Male   typical angina       118   186  False  lv hypertrophy     190   \n",
       "4   57  Male     asymptomatic       110   201  False          normal     126   \n",
       "\n",
       "   exang  oldpeak        slope          thal  num  \n",
       "0  False      2.3  downsloping  fixed defect    0  \n",
       "1  False      0.0         flat  fixed defect    0  \n",
       "2  False      0.4         flat  fixed defect    0  \n",
       "3  False      0.0         flat  fixed defect    0  \n",
       "4   True      1.5         flat  fixed defect    0  "
      ]
     },
     "execution_count": 128,
     "metadata": {},
     "output_type": "execute_result"
    }
   ],
   "source": [
    "df.head()"
   ]
  },
  {
   "cell_type": "code",
   "execution_count": 129,
   "id": "9e79bbdc-f31f-4850-ab64-c1525f0703ee",
   "metadata": {},
   "outputs": [
    {
     "data": {
      "text/html": [
       "<div>\n",
       "<style scoped>\n",
       "    .dataframe tbody tr th:only-of-type {\n",
       "        vertical-align: middle;\n",
       "    }\n",
       "\n",
       "    .dataframe tbody tr th {\n",
       "        vertical-align: top;\n",
       "    }\n",
       "\n",
       "    .dataframe thead th {\n",
       "        text-align: right;\n",
       "    }\n",
       "</style>\n",
       "<table border=\"1\" class=\"dataframe\">\n",
       "  <thead>\n",
       "    <tr style=\"text-align: right;\">\n",
       "      <th></th>\n",
       "      <th>age</th>\n",
       "      <th>sex</th>\n",
       "      <th>cp</th>\n",
       "      <th>trestbps</th>\n",
       "      <th>chol</th>\n",
       "      <th>fbs</th>\n",
       "      <th>restecg</th>\n",
       "      <th>thalch</th>\n",
       "      <th>exang</th>\n",
       "      <th>oldpeak</th>\n",
       "      <th>slope</th>\n",
       "      <th>thal</th>\n",
       "      <th>num</th>\n",
       "    </tr>\n",
       "  </thead>\n",
       "  <tbody>\n",
       "    <tr>\n",
       "      <th>903</th>\n",
       "      <td>53</td>\n",
       "      <td>Male</td>\n",
       "      <td>asymptomatic</td>\n",
       "      <td>125</td>\n",
       "      <td>0</td>\n",
       "      <td>False</td>\n",
       "      <td>normal</td>\n",
       "      <td>120</td>\n",
       "      <td>False</td>\n",
       "      <td>1.5</td>\n",
       "      <td>upsloping</td>\n",
       "      <td>reversable defect</td>\n",
       "      <td>4</td>\n",
       "    </tr>\n",
       "    <tr>\n",
       "      <th>904</th>\n",
       "      <td>62</td>\n",
       "      <td>Male</td>\n",
       "      <td>asymptomatic</td>\n",
       "      <td>166</td>\n",
       "      <td>170</td>\n",
       "      <td>False</td>\n",
       "      <td>st-t abnormality</td>\n",
       "      <td>120</td>\n",
       "      <td>True</td>\n",
       "      <td>3.0</td>\n",
       "      <td>flat</td>\n",
       "      <td>reversable defect</td>\n",
       "      <td>4</td>\n",
       "    </tr>\n",
       "    <tr>\n",
       "      <th>905</th>\n",
       "      <td>56</td>\n",
       "      <td>Male</td>\n",
       "      <td>non-anginal</td>\n",
       "      <td>170</td>\n",
       "      <td>0</td>\n",
       "      <td>False</td>\n",
       "      <td>lv hypertrophy</td>\n",
       "      <td>123</td>\n",
       "      <td>True</td>\n",
       "      <td>2.5</td>\n",
       "      <td>downsloping</td>\n",
       "      <td>normal</td>\n",
       "      <td>4</td>\n",
       "    </tr>\n",
       "    <tr>\n",
       "      <th>906</th>\n",
       "      <td>56</td>\n",
       "      <td>Male</td>\n",
       "      <td>non-anginal</td>\n",
       "      <td>144</td>\n",
       "      <td>208</td>\n",
       "      <td>True</td>\n",
       "      <td>st-t abnormality</td>\n",
       "      <td>105</td>\n",
       "      <td>TURE</td>\n",
       "      <td>NaN</td>\n",
       "      <td>downsloping</td>\n",
       "      <td>fixed defect</td>\n",
       "      <td>4</td>\n",
       "    </tr>\n",
       "    <tr>\n",
       "      <th>907</th>\n",
       "      <td>57</td>\n",
       "      <td>Male</td>\n",
       "      <td>asymptomatic</td>\n",
       "      <td>142</td>\n",
       "      <td>277</td>\n",
       "      <td>True</td>\n",
       "      <td>st-t abnormality</td>\n",
       "      <td>182</td>\n",
       "      <td>FALSE</td>\n",
       "      <td>NaN</td>\n",
       "      <td>flat</td>\n",
       "      <td>reversable defect</td>\n",
       "      <td>4</td>\n",
       "    </tr>\n",
       "  </tbody>\n",
       "</table>\n",
       "</div>"
      ],
      "text/plain": [
       "     age   sex            cp  trestbps  chol    fbs           restecg  thalch  \\\n",
       "903   53  Male  asymptomatic       125     0  False            normal     120   \n",
       "904   62  Male  asymptomatic       166   170  False  st-t abnormality     120   \n",
       "905   56  Male   non-anginal       170     0  False    lv hypertrophy     123   \n",
       "906   56  Male   non-anginal       144   208   True  st-t abnormality     105   \n",
       "907   57  Male  asymptomatic       142   277   True  st-t abnormality     182   \n",
       "\n",
       "     exang  oldpeak        slope               thal  num  \n",
       "903  False      1.5    upsloping  reversable defect    4  \n",
       "904   True      3.0         flat  reversable defect    4  \n",
       "905   True      2.5  downsloping             normal    4  \n",
       "906   TURE      NaN  downsloping       fixed defect    4  \n",
       "907  FALSE      NaN         flat  reversable defect    4  "
      ]
     },
     "execution_count": 129,
     "metadata": {},
     "output_type": "execute_result"
    }
   ],
   "source": [
    "df.tail()"
   ]
  },
  {
   "cell_type": "code",
   "execution_count": 130,
   "id": "cd651ee0-81b9-4900-ac78-9e519b5cf98a",
   "metadata": {},
   "outputs": [
    {
     "name": "stdout",
     "output_type": "stream",
     "text": [
      "<class 'pandas.core.frame.DataFrame'>\n",
      "RangeIndex: 908 entries, 0 to 907\n",
      "Data columns (total 13 columns):\n",
      " #   Column    Non-Null Count  Dtype  \n",
      "---  ------    --------------  -----  \n",
      " 0   age       908 non-null    int64  \n",
      " 1   sex       908 non-null    object \n",
      " 2   cp        908 non-null    object \n",
      " 3   trestbps  908 non-null    int64  \n",
      " 4   chol      908 non-null    int64  \n",
      " 5   fbs       908 non-null    bool   \n",
      " 6   restecg   908 non-null    object \n",
      " 7   thalch    908 non-null    int64  \n",
      " 8   exang     908 non-null    object \n",
      " 9   oldpeak   846 non-null    float64\n",
      " 10  slope     908 non-null    object \n",
      " 11  thal      908 non-null    object \n",
      " 12  num       908 non-null    int64  \n",
      "dtypes: bool(1), float64(1), int64(5), object(6)\n",
      "memory usage: 86.1+ KB\n"
     ]
    }
   ],
   "source": [
    "df.info()"
   ]
  },
  {
   "cell_type": "code",
   "execution_count": 131,
   "id": "beda08c0-276e-42a8-a06d-375245d73555",
   "metadata": {},
   "outputs": [
    {
     "data": {
      "text/plain": [
       "(908, 13)"
      ]
     },
     "execution_count": 131,
     "metadata": {},
     "output_type": "execute_result"
    }
   ],
   "source": [
    "df.shape"
   ]
  },
  {
   "cell_type": "code",
   "execution_count": 132,
   "id": "211cf1b4-126a-48b4-9940-2a6d51d3293b",
   "metadata": {},
   "outputs": [],
   "source": [
    "df_desc=pd.read_excel(\"heart_disease.xlsx\",sheet_name=\"Description\",header=None)"
   ]
  },
  {
   "cell_type": "code",
   "execution_count": 133,
   "id": "e6842622-d5b4-4475-bee7-df720307e2c4",
   "metadata": {},
   "outputs": [
    {
     "data": {
      "text/html": [
       "<div>\n",
       "<style scoped>\n",
       "    .dataframe tbody tr th:only-of-type {\n",
       "        vertical-align: middle;\n",
       "    }\n",
       "\n",
       "    .dataframe tbody tr th {\n",
       "        vertical-align: top;\n",
       "    }\n",
       "\n",
       "    .dataframe thead th {\n",
       "        text-align: right;\n",
       "    }\n",
       "</style>\n",
       "<table border=\"1\" class=\"dataframe\">\n",
       "  <thead>\n",
       "    <tr style=\"text-align: right;\">\n",
       "      <th></th>\n",
       "      <th>0</th>\n",
       "      <th>1</th>\n",
       "    </tr>\n",
       "  </thead>\n",
       "  <tbody>\n",
       "    <tr>\n",
       "      <th>0</th>\n",
       "      <td>age</td>\n",
       "      <td>Age in years</td>\n",
       "    </tr>\n",
       "    <tr>\n",
       "      <th>1</th>\n",
       "      <td>Gender</td>\n",
       "      <td>Gender ; Male - 1, Female -0</td>\n",
       "    </tr>\n",
       "    <tr>\n",
       "      <th>2</th>\n",
       "      <td>cp</td>\n",
       "      <td>Chest pain type</td>\n",
       "    </tr>\n",
       "    <tr>\n",
       "      <th>3</th>\n",
       "      <td>trestbps</td>\n",
       "      <td>Resting blood pressure</td>\n",
       "    </tr>\n",
       "    <tr>\n",
       "      <th>4</th>\n",
       "      <td>chol</td>\n",
       "      <td>cholesterol measure</td>\n",
       "    </tr>\n",
       "    <tr>\n",
       "      <th>5</th>\n",
       "      <td>fbs</td>\n",
       "      <td>(fasting blood sugar &gt; 120 mg/dl) (1 = true; 0...</td>\n",
       "    </tr>\n",
       "    <tr>\n",
       "      <th>6</th>\n",
       "      <td>restecg</td>\n",
       "      <td>ecg observation at resting condition,   -- Val...</td>\n",
       "    </tr>\n",
       "    <tr>\n",
       "      <th>7</th>\n",
       "      <td>thalch</td>\n",
       "      <td>maximum heart rate achieved</td>\n",
       "    </tr>\n",
       "    <tr>\n",
       "      <th>8</th>\n",
       "      <td>exang</td>\n",
       "      <td>exercise induced angina</td>\n",
       "    </tr>\n",
       "    <tr>\n",
       "      <th>9</th>\n",
       "      <td>oldpeak</td>\n",
       "      <td>ST depression induced by exercise relative to ...</td>\n",
       "    </tr>\n",
       "    <tr>\n",
       "      <th>10</th>\n",
       "      <td>slope</td>\n",
       "      <td>the slope of the peak exercise ST segment</td>\n",
       "    </tr>\n",
       "    <tr>\n",
       "      <th>11</th>\n",
       "      <td>thal</td>\n",
       "      <td>Thal</td>\n",
       "    </tr>\n",
       "    <tr>\n",
       "      <th>12</th>\n",
       "      <td>num</td>\n",
       "      <td>target [0=no heart disease; 1,2,3,4 = stages o...</td>\n",
       "    </tr>\n",
       "  </tbody>\n",
       "</table>\n",
       "</div>"
      ],
      "text/plain": [
       "           0                                                  1\n",
       "0        age                                       Age in years\n",
       "1     Gender                       Gender ; Male - 1, Female -0\n",
       "2         cp                                    Chest pain type\n",
       "3   trestbps                             Resting blood pressure\n",
       "4       chol                                cholesterol measure\n",
       "5        fbs  (fasting blood sugar > 120 mg/dl) (1 = true; 0...\n",
       "6    restecg  ecg observation at resting condition,   -- Val...\n",
       "7     thalch                        maximum heart rate achieved\n",
       "8      exang                            exercise induced angina\n",
       "9    oldpeak  ST depression induced by exercise relative to ...\n",
       "10     slope          the slope of the peak exercise ST segment\n",
       "11      thal                                               Thal\n",
       "12       num  target [0=no heart disease; 1,2,3,4 = stages o..."
      ]
     },
     "execution_count": 133,
     "metadata": {},
     "output_type": "execute_result"
    }
   ],
   "source": [
    "df_desc"
   ]
  },
  {
   "cell_type": "code",
   "execution_count": 134,
   "id": "bfaa076c-988e-49e6-b834-6de45d723b11",
   "metadata": {},
   "outputs": [],
   "source": [
    "heart_df=df.rename(columns={'cp':'Chest_pain','trestbps':'rest_BP','chol':'cholestrol','fbs':'fasting_bs','thalch':'max_HR','exang':'excercise_angina','thal':'thallassemia'})"
   ]
  },
  {
   "cell_type": "code",
   "execution_count": 135,
   "id": "44c90771-3da6-412b-954f-85d7bc1beb52",
   "metadata": {},
   "outputs": [
    {
     "data": {
      "text/html": [
       "<div>\n",
       "<style scoped>\n",
       "    .dataframe tbody tr th:only-of-type {\n",
       "        vertical-align: middle;\n",
       "    }\n",
       "\n",
       "    .dataframe tbody tr th {\n",
       "        vertical-align: top;\n",
       "    }\n",
       "\n",
       "    .dataframe thead th {\n",
       "        text-align: right;\n",
       "    }\n",
       "</style>\n",
       "<table border=\"1\" class=\"dataframe\">\n",
       "  <thead>\n",
       "    <tr style=\"text-align: right;\">\n",
       "      <th></th>\n",
       "      <th>age</th>\n",
       "      <th>sex</th>\n",
       "      <th>Chest_pain</th>\n",
       "      <th>rest_BP</th>\n",
       "      <th>cholestrol</th>\n",
       "      <th>fasting_bs</th>\n",
       "      <th>restecg</th>\n",
       "      <th>max_HR</th>\n",
       "      <th>excercise_angina</th>\n",
       "      <th>oldpeak</th>\n",
       "      <th>slope</th>\n",
       "      <th>thallassemia</th>\n",
       "      <th>num</th>\n",
       "    </tr>\n",
       "  </thead>\n",
       "  <tbody>\n",
       "    <tr>\n",
       "      <th>0</th>\n",
       "      <td>63</td>\n",
       "      <td>Male</td>\n",
       "      <td>typical angina</td>\n",
       "      <td>145</td>\n",
       "      <td>233</td>\n",
       "      <td>True</td>\n",
       "      <td>lv hypertrophy</td>\n",
       "      <td>150</td>\n",
       "      <td>False</td>\n",
       "      <td>2.3</td>\n",
       "      <td>downsloping</td>\n",
       "      <td>fixed defect</td>\n",
       "      <td>0</td>\n",
       "    </tr>\n",
       "    <tr>\n",
       "      <th>1</th>\n",
       "      <td>41</td>\n",
       "      <td>Male</td>\n",
       "      <td>atypical angina</td>\n",
       "      <td>135</td>\n",
       "      <td>203</td>\n",
       "      <td>False</td>\n",
       "      <td>normal</td>\n",
       "      <td>132</td>\n",
       "      <td>False</td>\n",
       "      <td>0.0</td>\n",
       "      <td>flat</td>\n",
       "      <td>fixed defect</td>\n",
       "      <td>0</td>\n",
       "    </tr>\n",
       "    <tr>\n",
       "      <th>2</th>\n",
       "      <td>57</td>\n",
       "      <td>Male</td>\n",
       "      <td>asymptomatic</td>\n",
       "      <td>140</td>\n",
       "      <td>192</td>\n",
       "      <td>False</td>\n",
       "      <td>normal</td>\n",
       "      <td>148</td>\n",
       "      <td>False</td>\n",
       "      <td>0.4</td>\n",
       "      <td>flat</td>\n",
       "      <td>fixed defect</td>\n",
       "      <td>0</td>\n",
       "    </tr>\n",
       "    <tr>\n",
       "      <th>3</th>\n",
       "      <td>52</td>\n",
       "      <td>Male</td>\n",
       "      <td>typical angina</td>\n",
       "      <td>118</td>\n",
       "      <td>186</td>\n",
       "      <td>False</td>\n",
       "      <td>lv hypertrophy</td>\n",
       "      <td>190</td>\n",
       "      <td>False</td>\n",
       "      <td>0.0</td>\n",
       "      <td>flat</td>\n",
       "      <td>fixed defect</td>\n",
       "      <td>0</td>\n",
       "    </tr>\n",
       "    <tr>\n",
       "      <th>4</th>\n",
       "      <td>57</td>\n",
       "      <td>Male</td>\n",
       "      <td>asymptomatic</td>\n",
       "      <td>110</td>\n",
       "      <td>201</td>\n",
       "      <td>False</td>\n",
       "      <td>normal</td>\n",
       "      <td>126</td>\n",
       "      <td>True</td>\n",
       "      <td>1.5</td>\n",
       "      <td>flat</td>\n",
       "      <td>fixed defect</td>\n",
       "      <td>0</td>\n",
       "    </tr>\n",
       "    <tr>\n",
       "      <th>...</th>\n",
       "      <td>...</td>\n",
       "      <td>...</td>\n",
       "      <td>...</td>\n",
       "      <td>...</td>\n",
       "      <td>...</td>\n",
       "      <td>...</td>\n",
       "      <td>...</td>\n",
       "      <td>...</td>\n",
       "      <td>...</td>\n",
       "      <td>...</td>\n",
       "      <td>...</td>\n",
       "      <td>...</td>\n",
       "      <td>...</td>\n",
       "    </tr>\n",
       "    <tr>\n",
       "      <th>903</th>\n",
       "      <td>53</td>\n",
       "      <td>Male</td>\n",
       "      <td>asymptomatic</td>\n",
       "      <td>125</td>\n",
       "      <td>0</td>\n",
       "      <td>False</td>\n",
       "      <td>normal</td>\n",
       "      <td>120</td>\n",
       "      <td>False</td>\n",
       "      <td>1.5</td>\n",
       "      <td>upsloping</td>\n",
       "      <td>reversable defect</td>\n",
       "      <td>4</td>\n",
       "    </tr>\n",
       "    <tr>\n",
       "      <th>904</th>\n",
       "      <td>62</td>\n",
       "      <td>Male</td>\n",
       "      <td>asymptomatic</td>\n",
       "      <td>166</td>\n",
       "      <td>170</td>\n",
       "      <td>False</td>\n",
       "      <td>st-t abnormality</td>\n",
       "      <td>120</td>\n",
       "      <td>True</td>\n",
       "      <td>3.0</td>\n",
       "      <td>flat</td>\n",
       "      <td>reversable defect</td>\n",
       "      <td>4</td>\n",
       "    </tr>\n",
       "    <tr>\n",
       "      <th>905</th>\n",
       "      <td>56</td>\n",
       "      <td>Male</td>\n",
       "      <td>non-anginal</td>\n",
       "      <td>170</td>\n",
       "      <td>0</td>\n",
       "      <td>False</td>\n",
       "      <td>lv hypertrophy</td>\n",
       "      <td>123</td>\n",
       "      <td>True</td>\n",
       "      <td>2.5</td>\n",
       "      <td>downsloping</td>\n",
       "      <td>normal</td>\n",
       "      <td>4</td>\n",
       "    </tr>\n",
       "    <tr>\n",
       "      <th>906</th>\n",
       "      <td>56</td>\n",
       "      <td>Male</td>\n",
       "      <td>non-anginal</td>\n",
       "      <td>144</td>\n",
       "      <td>208</td>\n",
       "      <td>True</td>\n",
       "      <td>st-t abnormality</td>\n",
       "      <td>105</td>\n",
       "      <td>TURE</td>\n",
       "      <td>NaN</td>\n",
       "      <td>downsloping</td>\n",
       "      <td>fixed defect</td>\n",
       "      <td>4</td>\n",
       "    </tr>\n",
       "    <tr>\n",
       "      <th>907</th>\n",
       "      <td>57</td>\n",
       "      <td>Male</td>\n",
       "      <td>asymptomatic</td>\n",
       "      <td>142</td>\n",
       "      <td>277</td>\n",
       "      <td>True</td>\n",
       "      <td>st-t abnormality</td>\n",
       "      <td>182</td>\n",
       "      <td>FALSE</td>\n",
       "      <td>NaN</td>\n",
       "      <td>flat</td>\n",
       "      <td>reversable defect</td>\n",
       "      <td>4</td>\n",
       "    </tr>\n",
       "  </tbody>\n",
       "</table>\n",
       "<p>908 rows × 13 columns</p>\n",
       "</div>"
      ],
      "text/plain": [
       "     age   sex       Chest_pain  rest_BP  cholestrol  fasting_bs  \\\n",
       "0     63  Male   typical angina      145         233        True   \n",
       "1     41  Male  atypical angina      135         203       False   \n",
       "2     57  Male     asymptomatic      140         192       False   \n",
       "3     52  Male   typical angina      118         186       False   \n",
       "4     57  Male     asymptomatic      110         201       False   \n",
       "..   ...   ...              ...      ...         ...         ...   \n",
       "903   53  Male     asymptomatic      125           0       False   \n",
       "904   62  Male     asymptomatic      166         170       False   \n",
       "905   56  Male      non-anginal      170           0       False   \n",
       "906   56  Male      non-anginal      144         208        True   \n",
       "907   57  Male     asymptomatic      142         277        True   \n",
       "\n",
       "              restecg  max_HR excercise_angina  oldpeak        slope  \\\n",
       "0      lv hypertrophy     150            False      2.3  downsloping   \n",
       "1              normal     132            False      0.0         flat   \n",
       "2              normal     148            False      0.4         flat   \n",
       "3      lv hypertrophy     190            False      0.0         flat   \n",
       "4              normal     126             True      1.5         flat   \n",
       "..                ...     ...              ...      ...          ...   \n",
       "903            normal     120            False      1.5    upsloping   \n",
       "904  st-t abnormality     120             True      3.0         flat   \n",
       "905    lv hypertrophy     123             True      2.5  downsloping   \n",
       "906  st-t abnormality     105             TURE      NaN  downsloping   \n",
       "907  st-t abnormality     182            FALSE      NaN         flat   \n",
       "\n",
       "          thallassemia  num  \n",
       "0         fixed defect    0  \n",
       "1         fixed defect    0  \n",
       "2         fixed defect    0  \n",
       "3         fixed defect    0  \n",
       "4         fixed defect    0  \n",
       "..                 ...  ...  \n",
       "903  reversable defect    4  \n",
       "904  reversable defect    4  \n",
       "905             normal    4  \n",
       "906       fixed defect    4  \n",
       "907  reversable defect    4  \n",
       "\n",
       "[908 rows x 13 columns]"
      ]
     },
     "execution_count": 135,
     "metadata": {},
     "output_type": "execute_result"
    }
   ],
   "source": [
    "heart_df"
   ]
  },
  {
   "cell_type": "code",
   "execution_count": 136,
   "id": "adc8e909-67fc-4c6b-923a-24108cd4c5fb",
   "metadata": {},
   "outputs": [
    {
     "data": {
      "text/plain": [
       "age                  0\n",
       "sex                  0\n",
       "Chest_pain           0\n",
       "rest_BP              0\n",
       "cholestrol           0\n",
       "fasting_bs           0\n",
       "restecg              0\n",
       "max_HR               0\n",
       "excercise_angina     0\n",
       "oldpeak             62\n",
       "slope                0\n",
       "thallassemia         0\n",
       "num                  0\n",
       "dtype: int64"
      ]
     },
     "execution_count": 136,
     "metadata": {},
     "output_type": "execute_result"
    }
   ],
   "source": [
    "heart_df.isnull().sum()"
   ]
  },
  {
   "cell_type": "code",
   "execution_count": 137,
   "id": "53679c4a-584e-43d5-a513-2681f5e24b8f",
   "metadata": {},
   "outputs": [
    {
     "data": {
      "text/html": [
       "<div>\n",
       "<style scoped>\n",
       "    .dataframe tbody tr th:only-of-type {\n",
       "        vertical-align: middle;\n",
       "    }\n",
       "\n",
       "    .dataframe tbody tr th {\n",
       "        vertical-align: top;\n",
       "    }\n",
       "\n",
       "    .dataframe thead th {\n",
       "        text-align: right;\n",
       "    }\n",
       "</style>\n",
       "<table border=\"1\" class=\"dataframe\">\n",
       "  <thead>\n",
       "    <tr style=\"text-align: right;\">\n",
       "      <th></th>\n",
       "      <th>age</th>\n",
       "      <th>rest_BP</th>\n",
       "      <th>cholestrol</th>\n",
       "      <th>max_HR</th>\n",
       "      <th>oldpeak</th>\n",
       "      <th>num</th>\n",
       "    </tr>\n",
       "  </thead>\n",
       "  <tbody>\n",
       "    <tr>\n",
       "      <th>count</th>\n",
       "      <td>908.000000</td>\n",
       "      <td>908.000000</td>\n",
       "      <td>908.000000</td>\n",
       "      <td>908.000000</td>\n",
       "      <td>846.000000</td>\n",
       "      <td>908.000000</td>\n",
       "    </tr>\n",
       "    <tr>\n",
       "      <th>mean</th>\n",
       "      <td>53.791850</td>\n",
       "      <td>133.430617</td>\n",
       "      <td>201.484581</td>\n",
       "      <td>135.957048</td>\n",
       "      <td>0.891253</td>\n",
       "      <td>1.008811</td>\n",
       "    </tr>\n",
       "    <tr>\n",
       "      <th>std</th>\n",
       "      <td>9.158031</td>\n",
       "      <td>20.401608</td>\n",
       "      <td>112.097949</td>\n",
       "      <td>26.804929</td>\n",
       "      <td>1.093875</td>\n",
       "      <td>1.144436</td>\n",
       "    </tr>\n",
       "    <tr>\n",
       "      <th>min</th>\n",
       "      <td>29.000000</td>\n",
       "      <td>0.000000</td>\n",
       "      <td>0.000000</td>\n",
       "      <td>60.000000</td>\n",
       "      <td>-2.600000</td>\n",
       "      <td>0.000000</td>\n",
       "    </tr>\n",
       "    <tr>\n",
       "      <th>25%</th>\n",
       "      <td>47.750000</td>\n",
       "      <td>120.000000</td>\n",
       "      <td>176.750000</td>\n",
       "      <td>118.000000</td>\n",
       "      <td>0.000000</td>\n",
       "      <td>0.000000</td>\n",
       "    </tr>\n",
       "    <tr>\n",
       "      <th>50%</th>\n",
       "      <td>54.000000</td>\n",
       "      <td>130.000000</td>\n",
       "      <td>224.000000</td>\n",
       "      <td>138.000000</td>\n",
       "      <td>0.500000</td>\n",
       "      <td>1.000000</td>\n",
       "    </tr>\n",
       "    <tr>\n",
       "      <th>75%</th>\n",
       "      <td>60.000000</td>\n",
       "      <td>144.000000</td>\n",
       "      <td>270.000000</td>\n",
       "      <td>156.000000</td>\n",
       "      <td>1.500000</td>\n",
       "      <td>2.000000</td>\n",
       "    </tr>\n",
       "    <tr>\n",
       "      <th>max</th>\n",
       "      <td>77.000000</td>\n",
       "      <td>200.000000</td>\n",
       "      <td>603.000000</td>\n",
       "      <td>202.000000</td>\n",
       "      <td>6.200000</td>\n",
       "      <td>4.000000</td>\n",
       "    </tr>\n",
       "  </tbody>\n",
       "</table>\n",
       "</div>"
      ],
      "text/plain": [
       "              age     rest_BP  cholestrol      max_HR     oldpeak         num\n",
       "count  908.000000  908.000000  908.000000  908.000000  846.000000  908.000000\n",
       "mean    53.791850  133.430617  201.484581  135.957048    0.891253    1.008811\n",
       "std      9.158031   20.401608  112.097949   26.804929    1.093875    1.144436\n",
       "min     29.000000    0.000000    0.000000   60.000000   -2.600000    0.000000\n",
       "25%     47.750000  120.000000  176.750000  118.000000    0.000000    0.000000\n",
       "50%     54.000000  130.000000  224.000000  138.000000    0.500000    1.000000\n",
       "75%     60.000000  144.000000  270.000000  156.000000    1.500000    2.000000\n",
       "max     77.000000  200.000000  603.000000  202.000000    6.200000    4.000000"
      ]
     },
     "execution_count": 137,
     "metadata": {},
     "output_type": "execute_result"
    }
   ],
   "source": [
    "heart_df.describe()"
   ]
  },
  {
   "cell_type": "code",
   "execution_count": 138,
   "id": "6a1de9e7-0c99-4ad8-990f-1d12191827f0",
   "metadata": {},
   "outputs": [
    {
     "data": {
      "text/html": [
       "<div>\n",
       "<style scoped>\n",
       "    .dataframe tbody tr th:only-of-type {\n",
       "        vertical-align: middle;\n",
       "    }\n",
       "\n",
       "    .dataframe tbody tr th {\n",
       "        vertical-align: top;\n",
       "    }\n",
       "\n",
       "    .dataframe thead th {\n",
       "        text-align: right;\n",
       "    }\n",
       "</style>\n",
       "<table border=\"1\" class=\"dataframe\">\n",
       "  <thead>\n",
       "    <tr style=\"text-align: right;\">\n",
       "      <th></th>\n",
       "      <th>age</th>\n",
       "      <th>sex</th>\n",
       "      <th>Chest_pain</th>\n",
       "      <th>rest_BP</th>\n",
       "      <th>cholestrol</th>\n",
       "      <th>fasting_bs</th>\n",
       "      <th>restecg</th>\n",
       "      <th>max_HR</th>\n",
       "      <th>excercise_angina</th>\n",
       "      <th>oldpeak</th>\n",
       "      <th>slope</th>\n",
       "      <th>thallassemia</th>\n",
       "      <th>num</th>\n",
       "    </tr>\n",
       "  </thead>\n",
       "  <tbody>\n",
       "    <tr>\n",
       "      <th>765</th>\n",
       "      <td>58</td>\n",
       "      <td>Male</td>\n",
       "      <td>non-anginal</td>\n",
       "      <td>150</td>\n",
       "      <td>219</td>\n",
       "      <td>False</td>\n",
       "      <td>st-t abnormality</td>\n",
       "      <td>118</td>\n",
       "      <td>True</td>\n",
       "      <td>0.0</td>\n",
       "      <td>downsloping</td>\n",
       "      <td>normal</td>\n",
       "      <td>2</td>\n",
       "    </tr>\n",
       "  </tbody>\n",
       "</table>\n",
       "</div>"
      ],
      "text/plain": [
       "     age   sex   Chest_pain  rest_BP  cholestrol  fasting_bs  \\\n",
       "765   58  Male  non-anginal      150         219       False   \n",
       "\n",
       "              restecg  max_HR excercise_angina  oldpeak        slope  \\\n",
       "765  st-t abnormality     118             True      0.0  downsloping   \n",
       "\n",
       "    thallassemia  num  \n",
       "765       normal    2  "
      ]
     },
     "execution_count": 138,
     "metadata": {},
     "output_type": "execute_result"
    }
   ],
   "source": [
    "heart_df[heart_df.duplicated()]"
   ]
  },
  {
   "cell_type": "code",
   "execution_count": 139,
   "id": "2908d694-20cd-401e-9a74-1198a44c5c4f",
   "metadata": {},
   "outputs": [],
   "source": [
    "heart_df.drop_duplicates(inplace=True)"
   ]
  },
  {
   "cell_type": "code",
   "execution_count": 140,
   "id": "13790ad8-3d63-44f4-ba68-345454004632",
   "metadata": {},
   "outputs": [],
   "source": [
    "heart_df.reset_index(drop=True,inplace=True)"
   ]
  },
  {
   "cell_type": "code",
   "execution_count": 141,
   "id": "d2aa3af9-b12b-4e18-b6cb-a97eea734b88",
   "metadata": {},
   "outputs": [
    {
     "data": {
      "text/html": [
       "<div>\n",
       "<style scoped>\n",
       "    .dataframe tbody tr th:only-of-type {\n",
       "        vertical-align: middle;\n",
       "    }\n",
       "\n",
       "    .dataframe tbody tr th {\n",
       "        vertical-align: top;\n",
       "    }\n",
       "\n",
       "    .dataframe thead th {\n",
       "        text-align: right;\n",
       "    }\n",
       "</style>\n",
       "<table border=\"1\" class=\"dataframe\">\n",
       "  <thead>\n",
       "    <tr style=\"text-align: right;\">\n",
       "      <th></th>\n",
       "      <th>age</th>\n",
       "      <th>sex</th>\n",
       "      <th>Chest_pain</th>\n",
       "      <th>rest_BP</th>\n",
       "      <th>cholestrol</th>\n",
       "      <th>fasting_bs</th>\n",
       "      <th>restecg</th>\n",
       "      <th>max_HR</th>\n",
       "      <th>excercise_angina</th>\n",
       "      <th>oldpeak</th>\n",
       "      <th>slope</th>\n",
       "      <th>thallassemia</th>\n",
       "      <th>num</th>\n",
       "    </tr>\n",
       "  </thead>\n",
       "  <tbody>\n",
       "    <tr>\n",
       "      <th>902</th>\n",
       "      <td>53</td>\n",
       "      <td>Male</td>\n",
       "      <td>asymptomatic</td>\n",
       "      <td>125</td>\n",
       "      <td>0</td>\n",
       "      <td>False</td>\n",
       "      <td>normal</td>\n",
       "      <td>120</td>\n",
       "      <td>False</td>\n",
       "      <td>1.5</td>\n",
       "      <td>upsloping</td>\n",
       "      <td>reversable defect</td>\n",
       "      <td>4</td>\n",
       "    </tr>\n",
       "    <tr>\n",
       "      <th>903</th>\n",
       "      <td>62</td>\n",
       "      <td>Male</td>\n",
       "      <td>asymptomatic</td>\n",
       "      <td>166</td>\n",
       "      <td>170</td>\n",
       "      <td>False</td>\n",
       "      <td>st-t abnormality</td>\n",
       "      <td>120</td>\n",
       "      <td>True</td>\n",
       "      <td>3.0</td>\n",
       "      <td>flat</td>\n",
       "      <td>reversable defect</td>\n",
       "      <td>4</td>\n",
       "    </tr>\n",
       "    <tr>\n",
       "      <th>904</th>\n",
       "      <td>56</td>\n",
       "      <td>Male</td>\n",
       "      <td>non-anginal</td>\n",
       "      <td>170</td>\n",
       "      <td>0</td>\n",
       "      <td>False</td>\n",
       "      <td>lv hypertrophy</td>\n",
       "      <td>123</td>\n",
       "      <td>True</td>\n",
       "      <td>2.5</td>\n",
       "      <td>downsloping</td>\n",
       "      <td>normal</td>\n",
       "      <td>4</td>\n",
       "    </tr>\n",
       "    <tr>\n",
       "      <th>905</th>\n",
       "      <td>56</td>\n",
       "      <td>Male</td>\n",
       "      <td>non-anginal</td>\n",
       "      <td>144</td>\n",
       "      <td>208</td>\n",
       "      <td>True</td>\n",
       "      <td>st-t abnormality</td>\n",
       "      <td>105</td>\n",
       "      <td>TURE</td>\n",
       "      <td>NaN</td>\n",
       "      <td>downsloping</td>\n",
       "      <td>fixed defect</td>\n",
       "      <td>4</td>\n",
       "    </tr>\n",
       "    <tr>\n",
       "      <th>906</th>\n",
       "      <td>57</td>\n",
       "      <td>Male</td>\n",
       "      <td>asymptomatic</td>\n",
       "      <td>142</td>\n",
       "      <td>277</td>\n",
       "      <td>True</td>\n",
       "      <td>st-t abnormality</td>\n",
       "      <td>182</td>\n",
       "      <td>FALSE</td>\n",
       "      <td>NaN</td>\n",
       "      <td>flat</td>\n",
       "      <td>reversable defect</td>\n",
       "      <td>4</td>\n",
       "    </tr>\n",
       "  </tbody>\n",
       "</table>\n",
       "</div>"
      ],
      "text/plain": [
       "     age   sex    Chest_pain  rest_BP  cholestrol  fasting_bs  \\\n",
       "902   53  Male  asymptomatic      125           0       False   \n",
       "903   62  Male  asymptomatic      166         170       False   \n",
       "904   56  Male   non-anginal      170           0       False   \n",
       "905   56  Male   non-anginal      144         208        True   \n",
       "906   57  Male  asymptomatic      142         277        True   \n",
       "\n",
       "              restecg  max_HR excercise_angina  oldpeak        slope  \\\n",
       "902            normal     120            False      1.5    upsloping   \n",
       "903  st-t abnormality     120             True      3.0         flat   \n",
       "904    lv hypertrophy     123             True      2.5  downsloping   \n",
       "905  st-t abnormality     105             TURE      NaN  downsloping   \n",
       "906  st-t abnormality     182            FALSE      NaN         flat   \n",
       "\n",
       "          thallassemia  num  \n",
       "902  reversable defect    4  \n",
       "903  reversable defect    4  \n",
       "904             normal    4  \n",
       "905       fixed defect    4  \n",
       "906  reversable defect    4  "
      ]
     },
     "execution_count": 141,
     "metadata": {},
     "output_type": "execute_result"
    }
   ],
   "source": [
    "heart_df.tail()"
   ]
  },
  {
   "cell_type": "code",
   "execution_count": 142,
   "id": "58d6a352-3b59-4666-9667-a8b7afd92a80",
   "metadata": {},
   "outputs": [
    {
     "data": {
      "text/plain": [
       "age                   int64\n",
       "sex                  object\n",
       "Chest_pain           object\n",
       "rest_BP               int64\n",
       "cholestrol            int64\n",
       "fasting_bs             bool\n",
       "restecg              object\n",
       "max_HR                int64\n",
       "excercise_angina     object\n",
       "oldpeak             float64\n",
       "slope                object\n",
       "thallassemia         object\n",
       "num                   int64\n",
       "dtype: object"
      ]
     },
     "execution_count": 142,
     "metadata": {},
     "output_type": "execute_result"
    }
   ],
   "source": [
    "heart_df.dtypes"
   ]
  },
  {
   "cell_type": "code",
   "execution_count": 143,
   "id": "9ca9f1f4-2d5b-4f87-aef8-96f90991c4d3",
   "metadata": {},
   "outputs": [
    {
     "data": {
      "text/plain": [
       "count    845.000000\n",
       "mean       0.892308\n",
       "std        1.094092\n",
       "min       -2.600000\n",
       "25%        0.000000\n",
       "50%        0.500000\n",
       "75%        1.500000\n",
       "max        6.200000\n",
       "Name: oldpeak, dtype: float64"
      ]
     },
     "execution_count": 143,
     "metadata": {},
     "output_type": "execute_result"
    }
   ],
   "source": [
    "heart_df['oldpeak'].describe()"
   ]
  },
  {
   "cell_type": "code",
   "execution_count": 144,
   "id": "c389a806-2f8e-45e7-8924-e141d00cf806",
   "metadata": {},
   "outputs": [],
   "source": [
    "heart_df['oldpeak'].fillna(heart_df['oldpeak'].mean(),inplace=True)"
   ]
  },
  {
   "cell_type": "code",
   "execution_count": 145,
   "id": "9202cf57-0412-4ced-b922-83fdca9dc2d3",
   "metadata": {},
   "outputs": [
    {
     "data": {
      "text/plain": [
       "count    907.000000\n",
       "mean       0.892308\n",
       "std        1.055993\n",
       "min       -2.600000\n",
       "25%        0.000000\n",
       "50%        0.800000\n",
       "75%        1.500000\n",
       "max        6.200000\n",
       "Name: oldpeak, dtype: float64"
      ]
     },
     "execution_count": 145,
     "metadata": {},
     "output_type": "execute_result"
    }
   ],
   "source": [
    "heart_df['oldpeak'].describe()"
   ]
  },
  {
   "cell_type": "code",
   "execution_count": 146,
   "id": "84430caf-f2ea-46c9-bfe3-084f4802107f",
   "metadata": {},
   "outputs": [
    {
     "data": {
      "text/plain": [
       "(array([  2.,   5., 362., 157., 200., 117.,  44.,  17.,   1.,   2.]),\n",
       " array([-2.6 , -1.72, -0.84,  0.04,  0.92,  1.8 ,  2.68,  3.56,  4.44,\n",
       "         5.32,  6.2 ]),\n",
       " <BarContainer object of 10 artists>)"
      ]
     },
     "execution_count": 146,
     "metadata": {},
     "output_type": "execute_result"
    },
    {
     "data": {
      "image/png": "[encoded data removed]",
      "text/plain": [
       "<Figure size 640x480 with 1 Axes>"
      ]
     },
     "metadata": {},
     "output_type": "display_data"
    }
   ],
   "source": [
    "plt.hist(heart_df['oldpeak'])"
   ]
  },
  {
   "cell_type": "code",
   "execution_count": 147,
   "id": "b763a75e-a3c9-45bf-8905-8c091a4774b9",
   "metadata": {},
   "outputs": [
    {
     "data": {
      "image/png": "[encoded data removed]",
      "text/plain": [
       "<Figure size 640x480 with 1 Axes>"
      ]
     },
     "metadata": {},
     "output_type": "display_data"
    }
   ],
   "source": [
    "oldpeak_box=plt.boxplot(heart_df['oldpeak'])\n",
    "plt.title(\"Boxplot of Oldpeak\")\n",
    "plt.ylabel(\"ST Depression\")\n",
    "plt.show()"
   ]
  },
  {
   "cell_type": "code",
   "execution_count": 148,
   "id": "2af85803-7636-4661-aaf5-1216f1c21171",
   "metadata": {},
   "outputs": [
    {
     "name": "stdout",
     "output_type": "stream",
     "text": [
      "16\n"
     ]
    },
    {
     "data": {
      "text/plain": [
       "[array([-2.6,  4.2,  4. ,  5. ,  4. ,  4. ,  6.2,  5.6,  4. ,  4.2,  4. ,\n",
       "         4.4,  4. ,  3.8,  4. ,  4. ])]"
      ]
     },
     "execution_count": 148,
     "metadata": {},
     "output_type": "execute_result"
    }
   ],
   "source": [
    "x=[]\n",
    "for i in oldpeak_box['fliers']:\n",
    "    x.append(i.get_ydata())\n",
    "print(len(x[0]))\n",
    "x "
   ]
  },
  {
   "cell_type": "code",
   "execution_count": 149,
   "id": "5eb16d92-a891-4d92-8700-16c14be200a8",
   "metadata": {},
   "outputs": [
    {
     "name": "stdout",
     "output_type": "stream",
     "text": [
      "Number of outliers: 16\n"
     ]
    }
   ],
   "source": [
    "Q1 = heart_df['oldpeak'].quantile(0.25)\n",
    "Q3 = heart_df['oldpeak'].quantile(0.75)\n",
    "IQR = Q3 - Q1\n",
    "\n",
    "# Define bounds\n",
    "lower_bound = Q1 - 1.5 * IQR\n",
    "upper_bound = Q3 + 1.5 * IQR\n",
    "outliers = heart_df[(heart_df['oldpeak'] < lower_bound) | (heart_df['oldpeak'] > upper_bound)]\n",
    "print(\"Number of outliers:\", len(outliers))"
   ]
  },
  {
   "cell_type": "code",
   "execution_count": 150,
   "id": "5d3f49d0-171e-40e4-843a-07f891241d01",
   "metadata": {},
   "outputs": [],
   "source": [
    "# Cap Outliers\n",
    "heart_df['oldpeak'] = np.where(heart_df['oldpeak'] > upper_bound, upper_bound,\n",
    "                        np.where(heart_df['oldpeak'] < lower_bound, lower_bound, heart_df['oldpeak']))"
   ]
  },
  {
   "cell_type": "code",
   "execution_count": 151,
   "id": "e0d15fe4-3e60-4219-8f64-920c5c356073",
   "metadata": {},
   "outputs": [
    {
     "data": {
      "image/png": "[encoded data removed]",
      "text/plain": [
       "<Figure size 640x480 with 1 Axes>"
      ]
     },
     "metadata": {},
     "output_type": "display_data"
    }
   ],
   "source": [
    "oldpeak_box=plt.boxplot(heart_df['oldpeak'])\n",
    "plt.title(\"Boxplot of Oldpeak\")\n",
    "plt.ylabel(\"ST Depression\")\n",
    "plt.show()"
   ]
  },
  {
   "cell_type": "code",
   "execution_count": 152,
   "id": "3d0960ae-84f4-4f10-b090-dad1b39d7634",
   "metadata": {},
   "outputs": [
    {
     "data": {
      "text/plain": [
       "(array([  2.,   2.,   7., 367.,  67., 190.,  96., 105.,  44.,  27.]),\n",
       " array([-2.25, -1.65, -1.05, -0.45,  0.15,  0.75,  1.35,  1.95,  2.55,\n",
       "         3.15,  3.75]),\n",
       " <BarContainer object of 10 artists>)"
      ]
     },
     "execution_count": 152,
     "metadata": {},
     "output_type": "execute_result"
    },
    {
     "data": {
      "image/png": "[encoded data removed]",
      "text/plain": [
       "<Figure size 640x480 with 1 Axes>"
      ]
     },
     "metadata": {},
     "output_type": "display_data"
    }
   ],
   "source": [
    "plt.hist(heart_df['oldpeak'])"
   ]
  },
  {
   "cell_type": "code",
   "execution_count": 153,
   "id": "16603fe8-0bc2-47cb-8f1c-0d5f9b851669",
   "metadata": {},
   "outputs": [
    {
     "data": {
      "text/plain": [
       "np.float64(0.8439940186124149)"
      ]
     },
     "execution_count": 153,
     "metadata": {},
     "output_type": "execute_result"
    }
   ],
   "source": [
    "heart_df['oldpeak'].skew() # as we are hoing to use decision tree,so this skew is not that much matter "
   ]
  },
  {
   "cell_type": "code",
   "execution_count": 154,
   "id": "119b8859-0d90-45d8-979d-4bdc51df73ed",
   "metadata": {},
   "outputs": [
    {
     "data": {
      "text/plain": [
       "age                 907\n",
       "sex                 907\n",
       "Chest_pain          907\n",
       "rest_BP             907\n",
       "cholestrol          907\n",
       "fasting_bs          907\n",
       "restecg             907\n",
       "max_HR              907\n",
       "excercise_angina    907\n",
       "oldpeak             907\n",
       "slope               907\n",
       "thallassemia        907\n",
       "num                 907\n",
       "dtype: int64"
      ]
     },
     "execution_count": 154,
     "metadata": {},
     "output_type": "execute_result"
    }
   ],
   "source": [
    "heart_df.count()"
   ]
  },
  {
   "cell_type": "code",
   "execution_count": 155,
   "id": "f166a582-2ebd-4b7a-ac9a-6ddc175da20d",
   "metadata": {},
   "outputs": [
    {
     "data": {
      "text/plain": [
       "Index(['age', 'sex', 'Chest_pain', 'rest_BP', 'cholestrol', 'fasting_bs',\n",
       "       'restecg', 'max_HR', 'excercise_angina', 'oldpeak', 'slope',\n",
       "       'thallassemia', 'num'],\n",
       "      dtype='object')"
      ]
     },
     "execution_count": 155,
     "metadata": {},
     "output_type": "execute_result"
    }
   ],
   "source": [
    "heart_df.columns"
   ]
  },
  {
   "cell_type": "code",
   "execution_count": 156,
   "id": "66c76707-b0ac-46a0-a742-112e941733be",
   "metadata": {},
   "outputs": [
    {
     "data": {
      "text/plain": [
       "<Axes: xlabel='age', ylabel='Count'>"
      ]
     },
     "execution_count": 156,
     "metadata": {},
     "output_type": "execute_result"
    },
    {
     "data": {
      "image/png": "[encoded data removed]",
      "text/plain": [
       "<Figure size 640x480 with 1 Axes>"
      ]
     },
     "metadata": {},
     "output_type": "display_data"
    }
   ],
   "source": [
    "sns.histplot(heart_df['age'])"
   ]
  },
  {
   "cell_type": "code",
   "execution_count": 157,
   "id": "ca2bc803-57c2-4689-89b9-13ffd7be6e9f",
   "metadata": {},
   "outputs": [
    {
     "data": {
      "text/plain": [
       "<Axes: ylabel='age'>"
      ]
     },
     "execution_count": 157,
     "metadata": {},
     "output_type": "execute_result"
    },
    {
     "data": {
      "image/png": "[encoded data removed]",
      "text/plain": [
       "<Figure size 640x480 with 1 Axes>"
      ]
     },
     "metadata": {},
     "output_type": "display_data"
    }
   ],
   "source": [
    "sns.boxplot(heart_df['age'])"
   ]
  },
  {
   "cell_type": "code",
   "execution_count": 158,
   "id": "12eeb47c-75b6-4e92-859f-38abc74fef2c",
   "metadata": {},
   "outputs": [
    {
     "data": {
      "image/png": "[encoded data removed]",
      "text/plain": [
       "<Figure size 640x480 with 1 Axes>"
      ]
     },
     "metadata": {},
     "output_type": "display_data"
    }
   ],
   "source": [
    "sns.countplot(x='sex',data=heart_df,palette='pastel')\n",
    "plt.title(\"Gender Distribution\")\n",
    "plt.xlabel(\"Sex (0 = Female, 1 = Male)\")\n",
    "plt.ylabel(\"Count\")\n",
    "plt.show()"
   ]
  },
  {
   "cell_type": "code",
   "execution_count": 159,
   "id": "0dabeca8-d1ec-4b9e-aebf-c162edd2e14d",
   "metadata": {},
   "outputs": [
    {
     "data": {
      "image/png": "[encoded data removed]",
      "text/plain": [
       "<Figure size 640x480 with 1 Axes>"
      ]
     },
     "metadata": {},
     "output_type": "display_data"
    }
   ],
   "source": [
    "sns.countplot(x='sex', hue='num', data=heart_df, palette='Set2')\n",
    "plt.title(\"Heart Disease by Gender\")\n",
    "plt.xlabel(\"Sex (0 = Female, 1 = Male)\")\n",
    "plt.ylabel(\"Count\")\n",
    "plt.legend(title=\"Target (0=No Disease, 1+=Disease)\")\n",
    "plt.show()"
   ]
  },
  {
   "cell_type": "code",
   "execution_count": 160,
   "id": "b8495fa5-ffd4-46a9-a7fa-268a10826fce",
   "metadata": {},
   "outputs": [],
   "source": [
    "cross_tab=pd.crosstab(heart_df['sex'],heart_df['num'])"
   ]
  },
  {
   "cell_type": "code",
   "execution_count": 161,
   "id": "5277ad65-4b15-45cc-a4ce-e317af6207fb",
   "metadata": {},
   "outputs": [],
   "source": [
    "from scipy.stats import chi2_contingency"
   ]
  },
  {
   "cell_type": "code",
   "execution_count": 162,
   "id": "ce2211ec-3594-4f33-aec6-38e67f1e25d6",
   "metadata": {},
   "outputs": [
    {
     "name": "stdout",
     "output_type": "stream",
     "text": [
      "Chi2 Value: 86.86277174921426\n",
      "p-value: 6.104901102856821e-18\n",
      "Degrees of Freedom: 4\n",
      "Expected Frequencies:\n",
      " [[ 83.58324146  55.51267916  22.62403528  22.41455347   5.86549063]\n",
      " [315.41675854 209.48732084  85.37596472  84.58544653  22.13450937]]\n"
     ]
    }
   ],
   "source": [
    "chi2,p,dof,expected=chi2_contingency(cross_tab)\n",
    "print(\"Chi2 Value:\", chi2)\n",
    "print(\"p-value:\", p)\n",
    "print(\"Degrees of Freedom:\", dof)\n",
    "print(\"Expected Frequencies:\\n\", expected)"
   ]
  },
  {
   "cell_type": "code",
   "execution_count": null,
   "id": "0d0fcdd0-8feb-499e-a571-32abcdb19e49",
   "metadata": {},
   "outputs": [],
   "source": []
  },
  {
   "cell_type": "markdown",
   "id": "44b265c6-ecd5-4d1a-a315-52bcab933886",
   "metadata": {},
   "source": [
    "**here the p value is extremely small, less than typical threshold of 0.05.\n",
    "So,There is a significance association b/w the age and num**"
   ]
  },
  {
   "cell_type": "code",
   "execution_count": 163,
   "id": "9a09202a-68cf-4304-91f5-98e7077bbb93",
   "metadata": {},
   "outputs": [
    {
     "data": {
      "text/plain": [
       "array(['typical angina', 'atypical angina', 'asymptomatic', 'non-anginal'],\n",
       "      dtype=object)"
      ]
     },
     "execution_count": 163,
     "metadata": {},
     "output_type": "execute_result"
    }
   ],
   "source": [
    "heart_df['Chest_pain'].unique()"
   ]
  },
  {
   "cell_type": "code",
   "execution_count": 164,
   "id": "aad790b6-cf74-4aa4-abcf-35a59748b172",
   "metadata": {},
   "outputs": [],
   "source": [
    "cp_crosstab=pd.crosstab(heart_df['Chest_pain'],heart_df['num'])"
   ]
  },
  {
   "cell_type": "code",
   "execution_count": 165,
   "id": "9b4ef1e9-472b-4892-9b09-abf6591c2da3",
   "metadata": {},
   "outputs": [
    {
     "data": {
      "text/html": [
       "<div>\n",
       "<style scoped>\n",
       "    .dataframe tbody tr th:only-of-type {\n",
       "        vertical-align: middle;\n",
       "    }\n",
       "\n",
       "    .dataframe tbody tr th {\n",
       "        vertical-align: top;\n",
       "    }\n",
       "\n",
       "    .dataframe thead th {\n",
       "        text-align: right;\n",
       "    }\n",
       "</style>\n",
       "<table border=\"1\" class=\"dataframe\">\n",
       "  <thead>\n",
       "    <tr style=\"text-align: right;\">\n",
       "      <th>num</th>\n",
       "      <th>0</th>\n",
       "      <th>1</th>\n",
       "      <th>2</th>\n",
       "      <th>3</th>\n",
       "      <th>4</th>\n",
       "    </tr>\n",
       "    <tr>\n",
       "      <th>Chest_pain</th>\n",
       "      <th></th>\n",
       "      <th></th>\n",
       "      <th></th>\n",
       "      <th></th>\n",
       "      <th></th>\n",
       "    </tr>\n",
       "  </thead>\n",
       "  <tbody>\n",
       "    <tr>\n",
       "      <th>asymptomatic</th>\n",
       "      <td>103</td>\n",
       "      <td>197</td>\n",
       "      <td>89</td>\n",
       "      <td>83</td>\n",
       "      <td>23</td>\n",
       "    </tr>\n",
       "    <tr>\n",
       "      <th>atypical angina</th>\n",
       "      <td>141</td>\n",
       "      <td>19</td>\n",
       "      <td>2</td>\n",
       "      <td>3</td>\n",
       "      <td>0</td>\n",
       "    </tr>\n",
       "    <tr>\n",
       "      <th>non-anginal</th>\n",
       "      <td>130</td>\n",
       "      <td>37</td>\n",
       "      <td>13</td>\n",
       "      <td>18</td>\n",
       "      <td>4</td>\n",
       "    </tr>\n",
       "    <tr>\n",
       "      <th>typical angina</th>\n",
       "      <td>25</td>\n",
       "      <td>12</td>\n",
       "      <td>4</td>\n",
       "      <td>3</td>\n",
       "      <td>1</td>\n",
       "    </tr>\n",
       "  </tbody>\n",
       "</table>\n",
       "</div>"
      ],
      "text/plain": [
       "num                0    1   2   3   4\n",
       "Chest_pain                           \n",
       "asymptomatic     103  197  89  83  23\n",
       "atypical angina  141   19   2   3   0\n",
       "non-anginal      130   37  13  18   4\n",
       "typical angina    25   12   4   3   1"
      ]
     },
     "execution_count": 165,
     "metadata": {},
     "output_type": "execute_result"
    }
   ],
   "source": [
    "cp_crosstab"
   ]
  },
  {
   "cell_type": "code",
   "execution_count": 166,
   "id": "dcdebbac-55ad-456f-b971-f836ff407534",
   "metadata": {},
   "outputs": [
    {
     "name": "stdout",
     "output_type": "stream",
     "text": [
      "Chi2 Value: 263.5816156929115\n",
      "p-value: 1.9993471007900695e-49\n",
      "Degrees of Freedom: 12\n",
      "Expected Frequencies:\n",
      " [[217.75633958 144.62513782  58.9415656   58.39581036  15.28114664]\n",
      " [ 72.58544653  48.20837927  19.64718853  19.46527012   5.09371555]\n",
      " [ 88.86218302  59.01874311  24.05292172  23.83020948   6.23594267]\n",
      " [ 19.79603087  13.1477398    5.35832415   5.30871003   1.38919515]]\n"
     ]
    }
   ],
   "source": [
    "chi2,p,dof,expected=chi2_contingency(cp_crosstab)\n",
    "print(\"Chi2 Value:\", chi2)\n",
    "print(\"p-value:\", p)\n",
    "print(\"Degrees of Freedom:\", dof)\n",
    "print(\"Expected Frequencies:\\n\", expected)"
   ]
  },
  {
   "cell_type": "markdown",
   "id": "7a64cb0b-d13f-4c6d-ac88-8fd856c41c95",
   "metadata": {},
   "source": [
    "**here the p value is extremely small, less than typical threshold of 0.05. So,There is a significance association b/w the Chest_pain_type and num**"
   ]
  },
  {
   "cell_type": "code",
   "execution_count": 167,
   "id": "712434c5-a787-4974-a9ea-1380096a3626",
   "metadata": {},
   "outputs": [
    {
     "data": {
      "image/png": "[encoded data removed]",
      "text/plain": [
       "<Figure size 640x480 with 1 Axes>"
      ]
     },
     "metadata": {},
     "output_type": "display_data"
    }
   ],
   "source": [
    "rest_BP_box=plt.boxplot(heart_df['rest_BP'])"
   ]
  },
  {
   "cell_type": "code",
   "execution_count": 168,
   "id": "667d5b8b-b867-4bb4-9835-a9d99232a121",
   "metadata": {},
   "outputs": [
    {
     "name": "stdout",
     "output_type": "stream",
     "text": [
      "22\n"
     ]
    },
    {
     "data": {
      "text/plain": [
       "[array([ 80,   0, 190, 181, 188, 193, 196, 192, 185, 200, 184, 192, 186,\n",
       "        200, 200, 200, 188, 182, 196, 193, 186, 190])]"
      ]
     },
     "execution_count": 168,
     "metadata": {},
     "output_type": "execute_result"
    }
   ],
   "source": [
    "y=[]\n",
    "for i in rest_BP_box['fliers']:\n",
    "    y.append(i.get_ydata())\n",
    "print(len(y[0]))\n",
    "y"
   ]
  },
  {
   "cell_type": "code",
   "execution_count": 169,
   "id": "3e7c5612-08e9-4237-b6b2-219551c770b0",
   "metadata": {},
   "outputs": [],
   "source": [
    "Q1 = heart_df['rest_BP'].quantile(0.25)\n",
    "Q3 = heart_df['rest_BP'].quantile(0.75)\n",
    "IQR = Q3 - Q1\n",
    "# Define bounds\n",
    "lower_bound = Q1 - 1.5 * IQR\n",
    "upper_bound = Q3 + 1.5 * IQR\n",
    "# Cap Outliers\n",
    "heart_df['rest_BP'] = np.where(heart_df['rest_BP'] > upper_bound, upper_bound,\n",
    "                        np.where(heart_df['rest_BP'] < lower_bound, lower_bound, heart_df['rest_BP']))"
   ]
  },
  {
   "cell_type": "code",
   "execution_count": 170,
   "id": "341b0852-9423-4e99-a73d-51944023aa87",
   "metadata": {},
   "outputs": [
    {
     "data": {
      "image/png": "[encoded data removed]",
      "text/plain": [
       "<Figure size 640x480 with 1 Axes>"
      ]
     },
     "metadata": {},
     "output_type": "display_data"
    }
   ],
   "source": [
    "rest_BP_box=plt.boxplot(heart_df['rest_BP'])"
   ]
  },
  {
   "cell_type": "code",
   "execution_count": 171,
   "id": "c219936d-935b-4a74-afd4-aad0a80c2a36",
   "metadata": {},
   "outputs": [
    {
     "data": {
      "text/plain": [
       "<Axes: xlabel='rest_BP', ylabel='Count'>"
      ]
     },
     "execution_count": 171,
     "metadata": {},
     "output_type": "execute_result"
    },
    {
     "data": {
      "image/png": "[encoded data removed]",
      "text/plain": [
       "<Figure size 640x480 with 1 Axes>"
      ]
     },
     "metadata": {},
     "output_type": "display_data"
    }
   ],
   "source": [
    "sns.histplot(heart_df['rest_BP'])"
   ]
  },
  {
   "cell_type": "code",
   "execution_count": 172,
   "id": "ffd5b3b4-75ed-422f-b40a-e2999ee614cb",
   "metadata": {},
   "outputs": [
    {
     "data": {
      "text/plain": [
       "np.float64(0.49630889947885826)"
      ]
     },
     "execution_count": 172,
     "metadata": {},
     "output_type": "execute_result"
    }
   ],
   "source": [
    "heart_df['rest_BP'].skew()"
   ]
  },
  {
   "cell_type": "code",
   "execution_count": 173,
   "id": "b04171bc-936e-4e31-a730-9516bfd5aa15",
   "metadata": {},
   "outputs": [
    {
     "data": {
      "image/png": "[encoded data removed]",
      "text/plain": [
       "<Figure size 640x480 with 1 Axes>"
      ]
     },
     "metadata": {},
     "output_type": "display_data"
    }
   ],
   "source": [
    "cholestol_BP_box=plt.boxplot(heart_df['cholestrol'])"
   ]
  },
  {
   "cell_type": "code",
   "execution_count": 174,
   "id": "05132d85-bfba-49bf-b52b-6917c4b3d827",
   "metadata": {},
   "outputs": [
    {
     "name": "stdout",
     "output_type": "stream",
     "text": [
      "187\n"
     ]
    },
    {
     "data": {
      "text/plain": [
       "[array([  0,   0,   0,   0,   0,   0,   0,   0,   0,   0,   0,   0,   0,\n",
       "          0,   0,   0,   0,   0,   0,   0,   0,   0,   0,   0,   0,   0,\n",
       "          0,   0,   0,   0,   0,   0,   0,   0,   0,   0,   0,   0,   0,\n",
       "          0,   0,   0,   0,   0,   0,   0,   0,   0,   0,   0,   0,   0,\n",
       "          0,   0,   0,   0,   0,   0,   0,   0,   0,   0,   0,   0,   0,\n",
       "          0,   0,   0,   0,   0,   0,   0,   0,   0,   0,   0,   0,   0,\n",
       "          0,   0,   0,   0,   0,   0,   0,   0,   0,   0,   0,   0,   0,\n",
       "          0,   0,   0,   0,   0,   0,   0,   0,   0,   0,   0,   0,   0,\n",
       "          0,   0,   0,   0,   0,   0,   0,   0,   0,   0,   0,   0,   0,\n",
       "          0,   0,   0,   0,   0,   0,   0,   0,   0,   0,   0,   0,   0,\n",
       "          0,   0,   0,   0,   0,   0,   0,   0,   0,   0,   0,   0,   0,\n",
       "          0,   0,   0,   0,   0,   0,   0,   0,   0,   0,   0,   0,   0,\n",
       "          0,   0,   0,   0,   0,   0,   0,   0,   0,   0,   0,   0,   0,\n",
       "          0,   0,   0, 417, 439, 564, 458, 481, 459, 432, 468, 412, 421,\n",
       "        466, 603, 518, 529, 491])]"
      ]
     },
     "execution_count": 174,
     "metadata": {},
     "output_type": "execute_result"
    }
   ],
   "source": [
    "y=[]\n",
    "for i in cholestol_BP_box['fliers']:\n",
    "    y.append(i.get_ydata())\n",
    "print(len(y[0]))\n",
    "y"
   ]
  },
  {
   "cell_type": "code",
   "execution_count": 175,
   "id": "e42d4047-67d6-47a4-a4bd-14be710be4c5",
   "metadata": {},
   "outputs": [],
   "source": [
    "Q1 = heart_df['cholestrol'].quantile(0.25)\n",
    "Q3 = heart_df['cholestrol'].quantile(0.75)\n",
    "IQR = Q3 - Q1\n",
    "# Define bounds\n",
    "lower_bound = Q1 - 1.5 * IQR\n",
    "upper_bound = Q3 + 1.5 * IQR\n",
    "# Cap Outliers\n",
    "heart_df['cholestrol'] = np.where(heart_df['cholestrol'] > upper_bound, upper_bound,\n",
    "                        np.where(heart_df['cholestrol'] < lower_bound, lower_bound, heart_df['cholestrol']))"
   ]
  },
  {
   "cell_type": "code",
   "execution_count": 176,
   "id": "b82d3438-586a-4de7-aa62-79943e408e46",
   "metadata": {},
   "outputs": [
    {
     "data": {
      "image/png": "[encoded data removed]",
      "text/plain": [
       "<Figure size 640x480 with 1 Axes>"
      ]
     },
     "metadata": {},
     "output_type": "display_data"
    }
   ],
   "source": [
    "cholestol_BP_box=plt.boxplot(heart_df['cholestrol'])"
   ]
  },
  {
   "cell_type": "code",
   "execution_count": null,
   "id": "7e29b582-faf7-40c7-a1d3-9c18bbd200b4",
   "metadata": {},
   "outputs": [],
   "source": []
  },
  {
   "cell_type": "code",
   "execution_count": 177,
   "id": "ad674499-62dd-4f30-802f-5bc85293a9f6",
   "metadata": {},
   "outputs": [
    {
     "data": {
      "text/plain": [
       "<Axes: xlabel='cholestrol', ylabel='Count'>"
      ]
     },
     "execution_count": 177,
     "metadata": {},
     "output_type": "execute_result"
    },
    {
     "data": {
      "image/png": "[encoded data removed]",
      "text/plain": [
       "<Figure size 640x480 with 1 Axes>"
      ]
     },
     "metadata": {},
     "output_type": "display_data"
    }
   ],
   "source": [
    "sns.histplot(heart_df['cholestrol'])"
   ]
  },
  {
   "cell_type": "code",
   "execution_count": 178,
   "id": "be0424f9-edcb-4eb3-88ed-f41ba8be062e",
   "metadata": {},
   "outputs": [
    {
     "data": {
      "text/plain": [
       "np.float64(-0.5458840525753456)"
      ]
     },
     "execution_count": 178,
     "metadata": {},
     "output_type": "execute_result"
    }
   ],
   "source": [
    "heart_df['cholestrol'].skew()"
   ]
  },
  {
   "cell_type": "code",
   "execution_count": 179,
   "id": "df601341-28a5-4c20-8d9e-e25aa9b4e93f",
   "metadata": {},
   "outputs": [
    {
     "data": {
      "image/png": "[encoded data removed]",
      "text/plain": [
       "<Figure size 640x480 with 1 Axes>"
      ]
     },
     "metadata": {},
     "output_type": "display_data"
    }
   ],
   "source": [
    "sns.boxplot(x='num', y='cholestrol', data=heart_df)\n",
    "plt.show()"
   ]
  },
  {
   "cell_type": "code",
   "execution_count": 180,
   "id": "e62fcb13-e56f-4dd3-90f9-d314e47a038b",
   "metadata": {},
   "outputs": [],
   "source": [
    "from scipy.stats import f_oneway"
   ]
  },
  {
   "cell_type": "code",
   "execution_count": 181,
   "id": "adf4e5b7-30a8-4786-abb7-bd9d4200f1cc",
   "metadata": {},
   "outputs": [
    {
     "name": "stdout",
     "output_type": "stream",
     "text": [
      "17.590026018360472 6.529742893038911e-14\n"
     ]
    }
   ],
   "source": [
    "grouped = [heart_df[heart_df['num']==c]['cholestrol'] for c in heart_df['num'].unique()]\n",
    "f_stat, p_value = f_oneway(*grouped)\n",
    "print(f_stat, p_value)"
   ]
  },
  {
   "cell_type": "markdown",
   "id": "99cedd80-868b-44de-afd5-fa43f1d80bb4",
   "metadata": {},
   "source": [
    "**Here the p value is less than the typical threshold value 0.05.\n",
    "So the cholestrol and the num are related**"
   ]
  },
  {
   "cell_type": "code",
   "execution_count": 182,
   "id": "cfd02b6e-79ed-448f-a237-1913c267d6e2",
   "metadata": {},
   "outputs": [
    {
     "data": {
      "image/png": "[encoded data removed]",
      "text/plain": [
       "<Figure size 640x480 with 1 Axes>"
      ]
     },
     "metadata": {},
     "output_type": "display_data"
    }
   ],
   "source": [
    "sns.barplot(x='num', y='cholestrol', data=heart_df, ci=None)\n",
    "plt.show()"
   ]
  },
  {
   "cell_type": "code",
   "execution_count": 183,
   "id": "22a93b4e-2fc8-497a-912b-cfb49be864d7",
   "metadata": {},
   "outputs": [
    {
     "data": {
      "text/plain": [
       "Index(['age', 'sex', 'Chest_pain', 'rest_BP', 'cholestrol', 'fasting_bs',\n",
       "       'restecg', 'max_HR', 'excercise_angina', 'oldpeak', 'slope',\n",
       "       'thallassemia', 'num'],\n",
       "      dtype='object')"
      ]
     },
     "execution_count": 183,
     "metadata": {},
     "output_type": "execute_result"
    }
   ],
   "source": [
    "heart_df.columns"
   ]
  },
  {
   "cell_type": "code",
   "execution_count": 184,
   "id": "37453bd5-cbcd-41cf-95f0-5868bb91229b",
   "metadata": {},
   "outputs": [
    {
     "data": {
      "text/plain": [
       "<Axes: xlabel='fasting_bs', ylabel='count'>"
      ]
     },
     "execution_count": 184,
     "metadata": {},
     "output_type": "execute_result"
    },
    {
     "data": {
      "image/png": "[encoded data removed]",
      "text/plain": [
       "<Figure size 640x480 with 1 Axes>"
      ]
     },
     "metadata": {},
     "output_type": "display_data"
    }
   ],
   "source": [
    "sns.countplot(x='fasting_bs',hue='num',data=heart_df,palette='Set3')"
   ]
  },
  {
   "cell_type": "code",
   "execution_count": 185,
   "id": "d044b020-6919-4831-b2f3-62a6f93a4adc",
   "metadata": {},
   "outputs": [],
   "source": [
    "fast_crosstab=pd.crosstab(heart_df['fasting_bs'],heart_df['num'])"
   ]
  },
  {
   "cell_type": "code",
   "execution_count": 186,
   "id": "ae309e2b-4f2c-476a-a130-79dee7ce3f01",
   "metadata": {},
   "outputs": [
    {
     "data": {
      "text/plain": [
       "Chi2ContingencyResult(statistic=np.float64(29.52167006247896), pvalue=np.float64(6.123927223864729e-06), dof=4, expected_freq=array([[317.61631753, 210.94818082,  85.97133407,  85.1753032 ,\n",
       "         22.28886439],\n",
       "       [ 81.38368247,  54.05181918,  22.02866593,  21.8246968 ,\n",
       "          5.71113561]]))"
      ]
     },
     "execution_count": 186,
     "metadata": {},
     "output_type": "execute_result"
    }
   ],
   "source": [
    "chi2_contingency(fast_crosstab)"
   ]
  },
  {
   "cell_type": "markdown",
   "id": "17a4be86-c18b-4273-98bf-0de92aa7e782",
   "metadata": {},
   "source": [
    "**Here the p value is less than the typical threshold value 0.05. So the fating_bs and the num are related**"
   ]
  },
  {
   "cell_type": "code",
   "execution_count": 187,
   "id": "1d29cd02-7466-4989-a078-533dc179ac67",
   "metadata": {},
   "outputs": [
    {
     "data": {
      "text/plain": [
       "array(['lv hypertrophy', 'normal', 'st-t abnormality'], dtype=object)"
      ]
     },
     "execution_count": 187,
     "metadata": {},
     "output_type": "execute_result"
    }
   ],
   "source": [
    "heart_df['restecg'].unique()"
   ]
  },
  {
   "cell_type": "code",
   "execution_count": 188,
   "id": "96f2f6a6-c861-4080-82a9-e73a364dce0f",
   "metadata": {},
   "outputs": [
    {
     "data": {
      "text/plain": [
       "restecg\n",
       "normal              542\n",
       "lv hypertrophy      187\n",
       "st-t abnormality    178\n",
       "Name: count, dtype: int64"
      ]
     },
     "execution_count": 188,
     "metadata": {},
     "output_type": "execute_result"
    }
   ],
   "source": [
    "heart_df['restecg'].value_counts()"
   ]
  },
  {
   "cell_type": "code",
   "execution_count": 189,
   "id": "e318d272-87a7-4120-b35e-bc5d87e755c7",
   "metadata": {},
   "outputs": [
    {
     "data": {
      "text/plain": [
       "<Axes: xlabel='restecg', ylabel='count'>"
      ]
     },
     "execution_count": 189,
     "metadata": {},
     "output_type": "execute_result"
    },
    {
     "data": {
      "image/png": "[encoded data removed]",
      "text/plain": [
       "<Figure size 640x480 with 1 Axes>"
      ]
     },
     "metadata": {},
     "output_type": "display_data"
    }
   ],
   "source": [
    "sns.countplot(x='restecg',hue='num',data=heart_df,palette='Set3')"
   ]
  },
  {
   "cell_type": "code",
   "execution_count": 190,
   "id": "c962f3ce-285c-43e9-8dc2-cb6b247e4763",
   "metadata": {},
   "outputs": [
    {
     "data": {
      "text/plain": [
       "count    907.000000\n",
       "mean     135.976847\n",
       "std       26.813075\n",
       "min       60.000000\n",
       "25%      118.000000\n",
       "50%      138.000000\n",
       "75%      156.000000\n",
       "max      202.000000\n",
       "Name: max_HR, dtype: float64"
      ]
     },
     "execution_count": 190,
     "metadata": {},
     "output_type": "execute_result"
    }
   ],
   "source": [
    "heart_df['max_HR'].describe()"
   ]
  },
  {
   "cell_type": "code",
   "execution_count": 191,
   "id": "8cfe548f-82d2-40f2-b017-86598a2c6f6b",
   "metadata": {},
   "outputs": [
    {
     "data": {
      "text/plain": [
       "{'whiskers': [<matplotlib.lines.Line2D at 0x1cbbfeed310>,\n",
       "  <matplotlib.lines.Line2D at 0x1cbbfeed450>],\n",
       " 'caps': [<matplotlib.lines.Line2D at 0x1cbbfeed590>,\n",
       "  <matplotlib.lines.Line2D at 0x1cbbfeed6d0>],\n",
       " 'boxes': [<matplotlib.lines.Line2D at 0x1cbbfeed1d0>],\n",
       " 'medians': [<matplotlib.lines.Line2D at 0x1cbbfeed810>],\n",
       " 'fliers': [<matplotlib.lines.Line2D at 0x1cbbfeed950>],\n",
       " 'means': []}"
      ]
     },
     "execution_count": 191,
     "metadata": {},
     "output_type": "execute_result"
    },
    {
     "data": {
      "image/png": "[encoded data removed]",
      "text/plain": [
       "<Figure size 640x480 with 1 Axes>"
      ]
     },
     "metadata": {},
     "output_type": "display_data"
    }
   ],
   "source": [
    "plt.boxplot(heart_df['max_HR'])"
   ]
  },
  {
   "cell_type": "code",
   "execution_count": 192,
   "id": "8dd95a28-ca40-4b41-aed5-ce474c341445",
   "metadata": {},
   "outputs": [
    {
     "data": {
      "text/plain": [
       "(array([ 17.,  22.,  70., 106., 177., 169., 146., 129.,  61.,  10.]),\n",
       " array([ 60. ,  74.2,  88.4, 102.6, 116.8, 131. , 145.2, 159.4, 173.6,\n",
       "        187.8, 202. ]),\n",
       " <BarContainer object of 10 artists>)"
      ]
     },
     "execution_count": 192,
     "metadata": {},
     "output_type": "execute_result"
    },
    {
     "data": {
      "image/png": "[encoded data removed]",
      "text/plain": [
       "<Figure size 640x480 with 1 Axes>"
      ]
     },
     "metadata": {},
     "output_type": "display_data"
    }
   ],
   "source": [
    "plt.hist(heart_df['max_HR'])"
   ]
  },
  {
   "cell_type": "code",
   "execution_count": 193,
   "id": "2620b4d7-2b08-4ae2-a12a-4fe97ca77e90",
   "metadata": {},
   "outputs": [
    {
     "data": {
      "text/plain": [
       "np.float64(-0.22148515620028666)"
      ]
     },
     "execution_count": 193,
     "metadata": {},
     "output_type": "execute_result"
    }
   ],
   "source": [
    "heart_df['max_HR'].skew()"
   ]
  },
  {
   "cell_type": "code",
   "execution_count": 194,
   "id": "7f72f28d-0fd1-42a5-8998-50d30d432463",
   "metadata": {},
   "outputs": [
    {
     "name": "stdout",
     "output_type": "stream",
     "text": [
      "34.71545500018554 5.5004101825479984e-27\n"
     ]
    }
   ],
   "source": [
    "grouped = [heart_df[heart_df['num']==c]['max_HR'] for c in heart_df['num'].unique()]\n",
    "f_stat, p_value = f_oneway(*grouped)\n",
    "print(f_stat, p_value)"
   ]
  },
  {
   "cell_type": "markdown",
   "id": "db1f2310-8099-4f29-b2d0-3aa1a7a28c18",
   "metadata": {},
   "source": [
    "**Here the p value is less than the typical threshold value 0.05. So the max_HR and the num are related**"
   ]
  },
  {
   "cell_type": "code",
   "execution_count": 195,
   "id": "e4c5775d-281b-4e01-9b44-c6bedadb5474",
   "metadata": {},
   "outputs": [
    {
     "data": {
      "text/plain": [
       "excercise_angina\n",
       "False    516\n",
       "True     336\n",
       "TURE      36\n",
       "FALSE     19\n",
       "Name: count, dtype: int64"
      ]
     },
     "execution_count": 195,
     "metadata": {},
     "output_type": "execute_result"
    }
   ],
   "source": [
    "heart_df['excercise_angina'].value_counts()"
   ]
  },
  {
   "cell_type": "code",
   "execution_count": 196,
   "id": "c0c228a3-94c0-4399-bc52-44528bfd1ab8",
   "metadata": {},
   "outputs": [],
   "source": [
    "heart_df['excercise_angina'].replace({'TURE':True,'FALSE':False},inplace=True)"
   ]
  },
  {
   "cell_type": "code",
   "execution_count": 197,
   "id": "c6a4e064-eb2c-4e8d-9113-2ea3abb2a409",
   "metadata": {},
   "outputs": [
    {
     "data": {
      "text/plain": [
       "array([False,  True])"
      ]
     },
     "execution_count": 197,
     "metadata": {},
     "output_type": "execute_result"
    }
   ],
   "source": [
    "heart_df['excercise_angina'].unique()"
   ]
  },
  {
   "cell_type": "code",
   "execution_count": 198,
   "id": "b1cc663a-655f-46b9-b5c7-25b17ade5ce6",
   "metadata": {},
   "outputs": [
    {
     "data": {
      "text/plain": [
       "excercise_angina\n",
       "False    535\n",
       "True     372\n",
       "Name: count, dtype: int64"
      ]
     },
     "execution_count": 198,
     "metadata": {},
     "output_type": "execute_result"
    }
   ],
   "source": [
    "heart_df['excercise_angina'].value_counts()"
   ]
  },
  {
   "cell_type": "code",
   "execution_count": 199,
   "id": "abe74cbb-9f41-4839-992a-690913e03290",
   "metadata": {},
   "outputs": [
    {
     "data": {
      "text/plain": [
       "<Axes: xlabel='excercise_angina', ylabel='count'>"
      ]
     },
     "execution_count": 199,
     "metadata": {},
     "output_type": "execute_result"
    },
    {
     "data": {
      "image/png": "[encoded data removed]",
      "text/plain": [
       "<Figure size 640x480 with 1 Axes>"
      ]
     },
     "metadata": {},
     "output_type": "display_data"
    }
   ],
   "source": [
    "sns.countplot(x='excercise_angina',hue='num',data=heart_df,palette='Set3')"
   ]
  },
  {
   "cell_type": "code",
   "execution_count": 200,
   "id": "6787f086-968e-431c-8f76-87f94314b3c1",
   "metadata": {},
   "outputs": [
    {
     "data": {
      "text/plain": [
       "0      2.300000\n",
       "1      0.000000\n",
       "2      0.400000\n",
       "3      0.000000\n",
       "4      1.500000\n",
       "         ...   \n",
       "902    1.500000\n",
       "903    3.000000\n",
       "904    2.500000\n",
       "905    0.892308\n",
       "906    0.892308\n",
       "Name: oldpeak, Length: 907, dtype: float64"
      ]
     },
     "execution_count": 200,
     "metadata": {},
     "output_type": "execute_result"
    }
   ],
   "source": [
    "heart_df['oldpeak']"
   ]
  },
  {
   "cell_type": "code",
   "execution_count": 201,
   "id": "e4565662-2a78-408b-a0bb-2d8481f9f2a9",
   "metadata": {},
   "outputs": [
    {
     "name": "stdout",
     "output_type": "stream",
     "text": [
      "51.283059942766656 6.185180207949792e-39\n"
     ]
    }
   ],
   "source": [
    "grouped = [heart_df[heart_df['num']==c]['oldpeak'] for c in heart_df['num'].unique()]\n",
    "f_stat, p_value = f_oneway(*grouped)\n",
    "print(f_stat, p_value)"
   ]
  },
  {
   "cell_type": "code",
   "execution_count": 202,
   "id": "7bc37658-7e89-40fc-be51-8c84946d5e6f",
   "metadata": {},
   "outputs": [
    {
     "data": {
      "image/png": "[encoded data removed]",
      "text/plain": [
       "<Figure size 640x480 with 1 Axes>"
      ]
     },
     "metadata": {},
     "output_type": "display_data"
    }
   ],
   "source": [
    "sns.boxplot(x='num', y='oldpeak', data=heart_df)\n",
    "plt.show()"
   ]
  },
  {
   "cell_type": "code",
   "execution_count": 203,
   "id": "05fbf8f4-0ea8-46c8-b3a2-c24d8a6a013a",
   "metadata": {},
   "outputs": [],
   "source": [
    "# From the box plot the more the old peak the more chance of heart attack chance"
   ]
  },
  {
   "cell_type": "code",
   "execution_count": 204,
   "id": "d09e889d-2e38-488a-aca6-dee51db517c0",
   "metadata": {},
   "outputs": [
    {
     "data": {
      "text/plain": [
       "Index(['age', 'sex', 'Chest_pain', 'rest_BP', 'cholestrol', 'fasting_bs',\n",
       "       'restecg', 'max_HR', 'excercise_angina', 'oldpeak', 'slope',\n",
       "       'thallassemia', 'num'],\n",
       "      dtype='object')"
      ]
     },
     "execution_count": 204,
     "metadata": {},
     "output_type": "execute_result"
    }
   ],
   "source": [
    "heart_df.columns"
   ]
  },
  {
   "cell_type": "code",
   "execution_count": 205,
   "id": "2ef0c5ce-9fea-4bc0-8c48-69f6a89b29b2",
   "metadata": {},
   "outputs": [
    {
     "data": {
      "text/plain": [
       "slope\n",
       "flat           453\n",
       "upsloping      298\n",
       "downsloping    156\n",
       "Name: count, dtype: int64"
      ]
     },
     "execution_count": 205,
     "metadata": {},
     "output_type": "execute_result"
    }
   ],
   "source": [
    "heart_df['slope'].value_counts()"
   ]
  },
  {
   "cell_type": "code",
   "execution_count": 206,
   "id": "6a6cc4c6-aee3-49fb-bd93-5ed236284ee7",
   "metadata": {},
   "outputs": [
    {
     "data": {
      "text/plain": [
       "<Axes: xlabel='slope', ylabel='count'>"
      ]
     },
     "execution_count": 206,
     "metadata": {},
     "output_type": "execute_result"
    },
    {
     "data": {
      "image/png": "[encoded data removed]",
      "text/plain": [
       "<Figure size 640x480 with 1 Axes>"
      ]
     },
     "metadata": {},
     "output_type": "display_data"
    }
   ],
   "source": [
    "sns.countplot(x='slope',hue='num',data=heart_df,palette='Set3')"
   ]
  },
  {
   "cell_type": "code",
   "execution_count": 207,
   "id": "c16b82cd-ce17-41dc-be75-cbe37d23b421",
   "metadata": {},
   "outputs": [],
   "source": [
    "slope_crosstab=pd.crosstab(heart_df['slope'],heart_df['num'])"
   ]
  },
  {
   "cell_type": "code",
   "execution_count": 208,
   "id": "2616f14b-3175-479f-adc2-93966d93a779",
   "metadata": {},
   "outputs": [
    {
     "data": {
      "text/plain": [
       "Chi2ContingencyResult(statistic=np.float64(63.35690365158029), pvalue=np.float64(1.0188248269067194e-10), dof=8, expected_freq=array([[ 68.62624035,  45.57883131,  18.5755237 ,  18.40352811,\n",
       "          4.81587652],\n",
       "       [199.2800441 , 132.353914  ,  53.94046307,  53.44101433,\n",
       "         13.9845645 ],\n",
       "       [131.09371555,  87.06725469,  35.48401323,  35.15545755,\n",
       "          9.19955899]]))"
      ]
     },
     "execution_count": 208,
     "metadata": {},
     "output_type": "execute_result"
    }
   ],
   "source": [
    "chi2_contingency(slope_crosstab)"
   ]
  },
  {
   "cell_type": "code",
   "execution_count": 209,
   "id": "d82018e5-a844-48db-9e44-e1f598f0780d",
   "metadata": {},
   "outputs": [],
   "source": [
    "# here the p value is less than threshold so reject null hypothesis and then the slope and num column are related"
   ]
  },
  {
   "cell_type": "code",
   "execution_count": 210,
   "id": "38220dc9-381a-4f09-99e5-b3e0cfa83d2a",
   "metadata": {},
   "outputs": [
    {
     "data": {
      "text/plain": [
       "thallassemia\n",
       "normal               385\n",
       "reversable defect    346\n",
       "fixed defect         176\n",
       "Name: count, dtype: int64"
      ]
     },
     "execution_count": 210,
     "metadata": {},
     "output_type": "execute_result"
    }
   ],
   "source": [
    "heart_df['thallassemia'].value_counts()"
   ]
  },
  {
   "cell_type": "code",
   "execution_count": 211,
   "id": "54b2cdd8-9ec8-494a-98ba-bb8e461ab471",
   "metadata": {},
   "outputs": [
    {
     "data": {
      "text/plain": [
       "<Axes: xlabel='thallassemia', ylabel='count'>"
      ]
     },
     "execution_count": 211,
     "metadata": {},
     "output_type": "execute_result"
    },
    {
     "data": {
      "image/png": "[encoded data removed]",
      "text/plain": [
       "<Figure size 640x480 with 1 Axes>"
      ]
     },
     "metadata": {},
     "output_type": "display_data"
    }
   ],
   "source": [
    "sns.countplot(x='thallassemia',hue='num',data=heart_df,palette='Set3')"
   ]
  },
  {
   "cell_type": "code",
   "execution_count": 212,
   "id": "d3296066-8563-4350-812d-c174ef0b21cc",
   "metadata": {},
   "outputs": [],
   "source": [
    "thal_crosstab=pd.crosstab(heart_df['thallassemia'],heart_df['num'])"
   ]
  },
  {
   "cell_type": "code",
   "execution_count": 213,
   "id": "76edba01-80dd-458e-a27e-62a38a781009",
   "metadata": {},
   "outputs": [
    {
     "data": {
      "text/plain": [
       "Chi2ContingencyResult(statistic=np.float64(56.36473734842853), pvalue=np.float64(2.3951085983640526e-09), dof=8, expected_freq=array([[ 77.4244763 ,  51.42227122,  20.9570011 ,  20.7629548 ,\n",
       "          5.43329658],\n",
       "       [169.3660419 , 112.4862183 ,  45.84343991,  45.41896362,\n",
       "         11.88533627],\n",
       "       [152.20948181, 101.09151047,  41.19955899,  40.81808159,\n",
       "         10.68136714]]))"
      ]
     },
     "execution_count": 213,
     "metadata": {},
     "output_type": "execute_result"
    }
   ],
   "source": [
    "chi2_contingency(thal_crosstab)"
   ]
  },
  {
   "cell_type": "code",
   "execution_count": 214,
   "id": "5b356052-b2cb-4c14-a670-724d8fcb3f4f",
   "metadata": {},
   "outputs": [],
   "source": [
    "# here the p value is less than threshold so reject null hypothesis and then the thallassemia and num column are related"
   ]
  },
  {
   "cell_type": "code",
   "execution_count": 215,
   "id": "bd9c3571-44c5-4b95-a39e-9b62ea1bbd16",
   "metadata": {},
   "outputs": [
    {
     "data": {
      "text/html": [
       "<div>\n",
       "<style scoped>\n",
       "    .dataframe tbody tr th:only-of-type {\n",
       "        vertical-align: middle;\n",
       "    }\n",
       "\n",
       "    .dataframe tbody tr th {\n",
       "        vertical-align: top;\n",
       "    }\n",
       "\n",
       "    .dataframe thead th {\n",
       "        text-align: right;\n",
       "    }\n",
       "</style>\n",
       "<table border=\"1\" class=\"dataframe\">\n",
       "  <thead>\n",
       "    <tr style=\"text-align: right;\">\n",
       "      <th></th>\n",
       "      <th>age</th>\n",
       "      <th>sex</th>\n",
       "      <th>Chest_pain</th>\n",
       "      <th>rest_BP</th>\n",
       "      <th>cholestrol</th>\n",
       "      <th>fasting_bs</th>\n",
       "      <th>restecg</th>\n",
       "      <th>max_HR</th>\n",
       "      <th>excercise_angina</th>\n",
       "      <th>oldpeak</th>\n",
       "      <th>slope</th>\n",
       "      <th>thallassemia</th>\n",
       "      <th>num</th>\n",
       "    </tr>\n",
       "  </thead>\n",
       "  <tbody>\n",
       "    <tr>\n",
       "      <th>0</th>\n",
       "      <td>63</td>\n",
       "      <td>Male</td>\n",
       "      <td>typical angina</td>\n",
       "      <td>145.0</td>\n",
       "      <td>233.0</td>\n",
       "      <td>True</td>\n",
       "      <td>lv hypertrophy</td>\n",
       "      <td>150</td>\n",
       "      <td>False</td>\n",
       "      <td>2.3</td>\n",
       "      <td>downsloping</td>\n",
       "      <td>fixed defect</td>\n",
       "      <td>0</td>\n",
       "    </tr>\n",
       "    <tr>\n",
       "      <th>1</th>\n",
       "      <td>41</td>\n",
       "      <td>Male</td>\n",
       "      <td>atypical angina</td>\n",
       "      <td>135.0</td>\n",
       "      <td>203.0</td>\n",
       "      <td>False</td>\n",
       "      <td>normal</td>\n",
       "      <td>132</td>\n",
       "      <td>False</td>\n",
       "      <td>0.0</td>\n",
       "      <td>flat</td>\n",
       "      <td>fixed defect</td>\n",
       "      <td>0</td>\n",
       "    </tr>\n",
       "    <tr>\n",
       "      <th>2</th>\n",
       "      <td>57</td>\n",
       "      <td>Male</td>\n",
       "      <td>asymptomatic</td>\n",
       "      <td>140.0</td>\n",
       "      <td>192.0</td>\n",
       "      <td>False</td>\n",
       "      <td>normal</td>\n",
       "      <td>148</td>\n",
       "      <td>False</td>\n",
       "      <td>0.4</td>\n",
       "      <td>flat</td>\n",
       "      <td>fixed defect</td>\n",
       "      <td>0</td>\n",
       "    </tr>\n",
       "    <tr>\n",
       "      <th>3</th>\n",
       "      <td>52</td>\n",
       "      <td>Male</td>\n",
       "      <td>typical angina</td>\n",
       "      <td>118.0</td>\n",
       "      <td>186.0</td>\n",
       "      <td>False</td>\n",
       "      <td>lv hypertrophy</td>\n",
       "      <td>190</td>\n",
       "      <td>False</td>\n",
       "      <td>0.0</td>\n",
       "      <td>flat</td>\n",
       "      <td>fixed defect</td>\n",
       "      <td>0</td>\n",
       "    </tr>\n",
       "    <tr>\n",
       "      <th>4</th>\n",
       "      <td>57</td>\n",
       "      <td>Male</td>\n",
       "      <td>asymptomatic</td>\n",
       "      <td>110.0</td>\n",
       "      <td>201.0</td>\n",
       "      <td>False</td>\n",
       "      <td>normal</td>\n",
       "      <td>126</td>\n",
       "      <td>True</td>\n",
       "      <td>1.5</td>\n",
       "      <td>flat</td>\n",
       "      <td>fixed defect</td>\n",
       "      <td>0</td>\n",
       "    </tr>\n",
       "  </tbody>\n",
       "</table>\n",
       "</div>"
      ],
      "text/plain": [
       "   age   sex       Chest_pain  rest_BP  cholestrol  fasting_bs  \\\n",
       "0   63  Male   typical angina    145.0       233.0        True   \n",
       "1   41  Male  atypical angina    135.0       203.0       False   \n",
       "2   57  Male     asymptomatic    140.0       192.0       False   \n",
       "3   52  Male   typical angina    118.0       186.0       False   \n",
       "4   57  Male     asymptomatic    110.0       201.0       False   \n",
       "\n",
       "          restecg  max_HR  excercise_angina  oldpeak        slope  \\\n",
       "0  lv hypertrophy     150             False      2.3  downsloping   \n",
       "1          normal     132             False      0.0         flat   \n",
       "2          normal     148             False      0.4         flat   \n",
       "3  lv hypertrophy     190             False      0.0         flat   \n",
       "4          normal     126              True      1.5         flat   \n",
       "\n",
       "   thallassemia  num  \n",
       "0  fixed defect    0  \n",
       "1  fixed defect    0  \n",
       "2  fixed defect    0  \n",
       "3  fixed defect    0  \n",
       "4  fixed defect    0  "
      ]
     },
     "execution_count": 215,
     "metadata": {},
     "output_type": "execute_result"
    }
   ],
   "source": [
    "heart_df.head()"
   ]
  },
  {
   "cell_type": "code",
   "execution_count": 216,
   "id": "2956ce54-e890-414b-adb2-90577bf593f8",
   "metadata": {},
   "outputs": [],
   "source": [
    "heart_df['fasting_bs']=heart_df['fasting_bs'].astype(int)"
   ]
  },
  {
   "cell_type": "code",
   "execution_count": 217,
   "id": "999993da-2547-4767-a121-9eb14ff3e43b",
   "metadata": {},
   "outputs": [],
   "source": [
    "heart_df['excercise_angina']=heart_df['excercise_angina'].astype(int)"
   ]
  },
  {
   "cell_type": "code",
   "execution_count": 218,
   "id": "40ba3042-fd4e-4352-a506-3a747301dd1a",
   "metadata": {},
   "outputs": [
    {
     "data": {
      "text/html": [
       "<div>\n",
       "<style scoped>\n",
       "    .dataframe tbody tr th:only-of-type {\n",
       "        vertical-align: middle;\n",
       "    }\n",
       "\n",
       "    .dataframe tbody tr th {\n",
       "        vertical-align: top;\n",
       "    }\n",
       "\n",
       "    .dataframe thead th {\n",
       "        text-align: right;\n",
       "    }\n",
       "</style>\n",
       "<table border=\"1\" class=\"dataframe\">\n",
       "  <thead>\n",
       "    <tr style=\"text-align: right;\">\n",
       "      <th></th>\n",
       "      <th>age</th>\n",
       "      <th>sex</th>\n",
       "      <th>Chest_pain</th>\n",
       "      <th>rest_BP</th>\n",
       "      <th>cholestrol</th>\n",
       "      <th>fasting_bs</th>\n",
       "      <th>restecg</th>\n",
       "      <th>max_HR</th>\n",
       "      <th>excercise_angina</th>\n",
       "      <th>oldpeak</th>\n",
       "      <th>slope</th>\n",
       "      <th>thallassemia</th>\n",
       "      <th>num</th>\n",
       "    </tr>\n",
       "  </thead>\n",
       "  <tbody>\n",
       "    <tr>\n",
       "      <th>0</th>\n",
       "      <td>63</td>\n",
       "      <td>Male</td>\n",
       "      <td>typical angina</td>\n",
       "      <td>145.0</td>\n",
       "      <td>233.0</td>\n",
       "      <td>1</td>\n",
       "      <td>lv hypertrophy</td>\n",
       "      <td>150</td>\n",
       "      <td>0</td>\n",
       "      <td>2.3</td>\n",
       "      <td>downsloping</td>\n",
       "      <td>fixed defect</td>\n",
       "      <td>0</td>\n",
       "    </tr>\n",
       "    <tr>\n",
       "      <th>1</th>\n",
       "      <td>41</td>\n",
       "      <td>Male</td>\n",
       "      <td>atypical angina</td>\n",
       "      <td>135.0</td>\n",
       "      <td>203.0</td>\n",
       "      <td>0</td>\n",
       "      <td>normal</td>\n",
       "      <td>132</td>\n",
       "      <td>0</td>\n",
       "      <td>0.0</td>\n",
       "      <td>flat</td>\n",
       "      <td>fixed defect</td>\n",
       "      <td>0</td>\n",
       "    </tr>\n",
       "    <tr>\n",
       "      <th>2</th>\n",
       "      <td>57</td>\n",
       "      <td>Male</td>\n",
       "      <td>asymptomatic</td>\n",
       "      <td>140.0</td>\n",
       "      <td>192.0</td>\n",
       "      <td>0</td>\n",
       "      <td>normal</td>\n",
       "      <td>148</td>\n",
       "      <td>0</td>\n",
       "      <td>0.4</td>\n",
       "      <td>flat</td>\n",
       "      <td>fixed defect</td>\n",
       "      <td>0</td>\n",
       "    </tr>\n",
       "    <tr>\n",
       "      <th>3</th>\n",
       "      <td>52</td>\n",
       "      <td>Male</td>\n",
       "      <td>typical angina</td>\n",
       "      <td>118.0</td>\n",
       "      <td>186.0</td>\n",
       "      <td>0</td>\n",
       "      <td>lv hypertrophy</td>\n",
       "      <td>190</td>\n",
       "      <td>0</td>\n",
       "      <td>0.0</td>\n",
       "      <td>flat</td>\n",
       "      <td>fixed defect</td>\n",
       "      <td>0</td>\n",
       "    </tr>\n",
       "    <tr>\n",
       "      <th>4</th>\n",
       "      <td>57</td>\n",
       "      <td>Male</td>\n",
       "      <td>asymptomatic</td>\n",
       "      <td>110.0</td>\n",
       "      <td>201.0</td>\n",
       "      <td>0</td>\n",
       "      <td>normal</td>\n",
       "      <td>126</td>\n",
       "      <td>1</td>\n",
       "      <td>1.5</td>\n",
       "      <td>flat</td>\n",
       "      <td>fixed defect</td>\n",
       "      <td>0</td>\n",
       "    </tr>\n",
       "  </tbody>\n",
       "</table>\n",
       "</div>"
      ],
      "text/plain": [
       "   age   sex       Chest_pain  rest_BP  cholestrol  fasting_bs  \\\n",
       "0   63  Male   typical angina    145.0       233.0           1   \n",
       "1   41  Male  atypical angina    135.0       203.0           0   \n",
       "2   57  Male     asymptomatic    140.0       192.0           0   \n",
       "3   52  Male   typical angina    118.0       186.0           0   \n",
       "4   57  Male     asymptomatic    110.0       201.0           0   \n",
       "\n",
       "          restecg  max_HR  excercise_angina  oldpeak        slope  \\\n",
       "0  lv hypertrophy     150                 0      2.3  downsloping   \n",
       "1          normal     132                 0      0.0         flat   \n",
       "2          normal     148                 0      0.4         flat   \n",
       "3  lv hypertrophy     190                 0      0.0         flat   \n",
       "4          normal     126                 1      1.5         flat   \n",
       "\n",
       "   thallassemia  num  \n",
       "0  fixed defect    0  \n",
       "1  fixed defect    0  \n",
       "2  fixed defect    0  \n",
       "3  fixed defect    0  \n",
       "4  fixed defect    0  "
      ]
     },
     "execution_count": 218,
     "metadata": {},
     "output_type": "execute_result"
    }
   ],
   "source": [
    "heart_df.head()"
   ]
  },
  {
   "cell_type": "code",
   "execution_count": 219,
   "id": "d702c989-37ff-4815-8af4-cd0496efbe63",
   "metadata": {},
   "outputs": [
    {
     "data": {
      "text/plain": [
       "age                   int64\n",
       "sex                  object\n",
       "Chest_pain           object\n",
       "rest_BP             float64\n",
       "cholestrol          float64\n",
       "fasting_bs            int64\n",
       "restecg              object\n",
       "max_HR                int64\n",
       "excercise_angina      int64\n",
       "oldpeak             float64\n",
       "slope                object\n",
       "thallassemia         object\n",
       "num                   int64\n",
       "dtype: object"
      ]
     },
     "execution_count": 219,
     "metadata": {},
     "output_type": "execute_result"
    }
   ],
   "source": [
    "heart_df.dtypes"
   ]
  },
  {
   "cell_type": "code",
   "execution_count": 220,
   "id": "ba7123e2-9bb9-4f60-943e-a7f76321c87b",
   "metadata": {},
   "outputs": [],
   "source": [
    "#Identify all object or category type columns\n",
    "nominal_cols = heart_df.select_dtypes(include=['object', 'category']).columns.tolist()\n",
    "\n",
    "# One-hot encode all nominal columns\n",
    "df_encoded = pd.get_dummies(heart_df, columns=nominal_cols, drop_first=True)"
   ]
  },
  {
   "cell_type": "code",
   "execution_count": 221,
   "id": "fff9b7f3-0b5f-435a-9ffd-06a6b61f00c1",
   "metadata": {},
   "outputs": [],
   "source": [
    "#LE = LabelEncoder()\n",
    "#for col in nominal_cols:\n",
    " #   heart_df[col] = LE.fit_transform([col]heart_df)"
   ]
  },
  {
   "cell_type": "code",
   "execution_count": 222,
   "id": "ca493592-36b3-47b5-9702-6dcbfb04aa30",
   "metadata": {},
   "outputs": [
    {
     "data": {
      "text/html": [
       "<div>\n",
       "<style scoped>\n",
       "    .dataframe tbody tr th:only-of-type {\n",
       "        vertical-align: middle;\n",
       "    }\n",
       "\n",
       "    .dataframe tbody tr th {\n",
       "        vertical-align: top;\n",
       "    }\n",
       "\n",
       "    .dataframe thead th {\n",
       "        text-align: right;\n",
       "    }\n",
       "</style>\n",
       "<table border=\"1\" class=\"dataframe\">\n",
       "  <thead>\n",
       "    <tr style=\"text-align: right;\">\n",
       "      <th></th>\n",
       "      <th>age</th>\n",
       "      <th>rest_BP</th>\n",
       "      <th>cholestrol</th>\n",
       "      <th>fasting_bs</th>\n",
       "      <th>max_HR</th>\n",
       "      <th>excercise_angina</th>\n",
       "      <th>oldpeak</th>\n",
       "      <th>num</th>\n",
       "      <th>sex_Male</th>\n",
       "      <th>Chest_pain_atypical angina</th>\n",
       "      <th>Chest_pain_non-anginal</th>\n",
       "      <th>Chest_pain_typical angina</th>\n",
       "      <th>restecg_normal</th>\n",
       "      <th>restecg_st-t abnormality</th>\n",
       "      <th>slope_flat</th>\n",
       "      <th>slope_upsloping</th>\n",
       "      <th>thallassemia_normal</th>\n",
       "      <th>thallassemia_reversable defect</th>\n",
       "    </tr>\n",
       "  </thead>\n",
       "  <tbody>\n",
       "    <tr>\n",
       "      <th>0</th>\n",
       "      <td>63</td>\n",
       "      <td>145.0</td>\n",
       "      <td>233.0</td>\n",
       "      <td>1</td>\n",
       "      <td>150</td>\n",
       "      <td>0</td>\n",
       "      <td>2.3</td>\n",
       "      <td>0</td>\n",
       "      <td>True</td>\n",
       "      <td>False</td>\n",
       "      <td>False</td>\n",
       "      <td>True</td>\n",
       "      <td>False</td>\n",
       "      <td>False</td>\n",
       "      <td>False</td>\n",
       "      <td>False</td>\n",
       "      <td>False</td>\n",
       "      <td>False</td>\n",
       "    </tr>\n",
       "    <tr>\n",
       "      <th>1</th>\n",
       "      <td>41</td>\n",
       "      <td>135.0</td>\n",
       "      <td>203.0</td>\n",
       "      <td>0</td>\n",
       "      <td>132</td>\n",
       "      <td>0</td>\n",
       "      <td>0.0</td>\n",
       "      <td>0</td>\n",
       "      <td>True</td>\n",
       "      <td>True</td>\n",
       "      <td>False</td>\n",
       "      <td>False</td>\n",
       "      <td>True</td>\n",
       "      <td>False</td>\n",
       "      <td>True</td>\n",
       "      <td>False</td>\n",
       "      <td>False</td>\n",
       "      <td>False</td>\n",
       "    </tr>\n",
       "    <tr>\n",
       "      <th>2</th>\n",
       "      <td>57</td>\n",
       "      <td>140.0</td>\n",
       "      <td>192.0</td>\n",
       "      <td>0</td>\n",
       "      <td>148</td>\n",
       "      <td>0</td>\n",
       "      <td>0.4</td>\n",
       "      <td>0</td>\n",
       "      <td>True</td>\n",
       "      <td>False</td>\n",
       "      <td>False</td>\n",
       "      <td>False</td>\n",
       "      <td>True</td>\n",
       "      <td>False</td>\n",
       "      <td>True</td>\n",
       "      <td>False</td>\n",
       "      <td>False</td>\n",
       "      <td>False</td>\n",
       "    </tr>\n",
       "    <tr>\n",
       "      <th>3</th>\n",
       "      <td>52</td>\n",
       "      <td>118.0</td>\n",
       "      <td>186.0</td>\n",
       "      <td>0</td>\n",
       "      <td>190</td>\n",
       "      <td>0</td>\n",
       "      <td>0.0</td>\n",
       "      <td>0</td>\n",
       "      <td>True</td>\n",
       "      <td>False</td>\n",
       "      <td>False</td>\n",
       "      <td>True</td>\n",
       "      <td>False</td>\n",
       "      <td>False</td>\n",
       "      <td>True</td>\n",
       "      <td>False</td>\n",
       "      <td>False</td>\n",
       "      <td>False</td>\n",
       "    </tr>\n",
       "    <tr>\n",
       "      <th>4</th>\n",
       "      <td>57</td>\n",
       "      <td>110.0</td>\n",
       "      <td>201.0</td>\n",
       "      <td>0</td>\n",
       "      <td>126</td>\n",
       "      <td>1</td>\n",
       "      <td>1.5</td>\n",
       "      <td>0</td>\n",
       "      <td>True</td>\n",
       "      <td>False</td>\n",
       "      <td>False</td>\n",
       "      <td>False</td>\n",
       "      <td>True</td>\n",
       "      <td>False</td>\n",
       "      <td>True</td>\n",
       "      <td>False</td>\n",
       "      <td>False</td>\n",
       "      <td>False</td>\n",
       "    </tr>\n",
       "  </tbody>\n",
       "</table>\n",
       "</div>"
      ],
      "text/plain": [
       "   age  rest_BP  cholestrol  fasting_bs  max_HR  excercise_angina  oldpeak  \\\n",
       "0   63    145.0       233.0           1     150                 0      2.3   \n",
       "1   41    135.0       203.0           0     132                 0      0.0   \n",
       "2   57    140.0       192.0           0     148                 0      0.4   \n",
       "3   52    118.0       186.0           0     190                 0      0.0   \n",
       "4   57    110.0       201.0           0     126                 1      1.5   \n",
       "\n",
       "   num  sex_Male  Chest_pain_atypical angina  Chest_pain_non-anginal  \\\n",
       "0    0      True                       False                   False   \n",
       "1    0      True                        True                   False   \n",
       "2    0      True                       False                   False   \n",
       "3    0      True                       False                   False   \n",
       "4    0      True                       False                   False   \n",
       "\n",
       "   Chest_pain_typical angina  restecg_normal  restecg_st-t abnormality  \\\n",
       "0                       True           False                     False   \n",
       "1                      False            True                     False   \n",
       "2                      False            True                     False   \n",
       "3                       True           False                     False   \n",
       "4                      False            True                     False   \n",
       "\n",
       "   slope_flat  slope_upsloping  thallassemia_normal  \\\n",
       "0       False            False                False   \n",
       "1        True            False                False   \n",
       "2        True            False                False   \n",
       "3        True            False                False   \n",
       "4        True            False                False   \n",
       "\n",
       "   thallassemia_reversable defect  \n",
       "0                           False  \n",
       "1                           False  \n",
       "2                           False  \n",
       "3                           False  \n",
       "4                           False  "
      ]
     },
     "execution_count": 222,
     "metadata": {},
     "output_type": "execute_result"
    }
   ],
   "source": [
    "df_encoded.head()"
   ]
  },
  {
   "cell_type": "code",
   "execution_count": 223,
   "id": "3b524c2c-ece4-4993-95a6-10593e554548",
   "metadata": {},
   "outputs": [
    {
     "data": {
      "text/plain": [
       "Index(['age', 'rest_BP', 'cholestrol', 'fasting_bs', 'max_HR',\n",
       "       'excercise_angina', 'oldpeak', 'num', 'sex_Male',\n",
       "       'Chest_pain_atypical angina', 'Chest_pain_non-anginal',\n",
       "       'Chest_pain_typical angina', 'restecg_normal',\n",
       "       'restecg_st-t abnormality', 'slope_flat', 'slope_upsloping',\n",
       "       'thallassemia_normal', 'thallassemia_reversable defect'],\n",
       "      dtype='object')"
      ]
     },
     "execution_count": 223,
     "metadata": {},
     "output_type": "execute_result"
    }
   ],
   "source": [
    "df_encoded.columns"
   ]
  },
  {
   "cell_type": "code",
   "execution_count": 224,
   "id": "0f7ee839-201b-49e2-a6d8-0c0c8fb38c0f",
   "metadata": {},
   "outputs": [],
   "source": [
    "# List of boolean columns\n",
    "#bool_cols = ['Chest_pain_asymptomatic','Chest_pain_atypical angina','Chest_pain_non-anginal', 'restecg_lv hypertrophy','restecg_normal','restecg_st-t abnormality', 'slope_downsloping','slope_flat','slope_upsloping','thallassemia_fixed defect','thallassemia_normal','thallassemia_reversable defect']\n",
    "bool_cols = ['Chest_pain_atypical angina','Chest_pain_non-anginal','restecg_normal','restecg_st-t abnormality','slope_flat','slope_upsloping','thallassemia_normal','thallassemia_reversable defect']\n",
    "# Convert all True/False to 1/0\n",
    "df_encoded[bool_cols] = df_encoded[bool_cols].astype(int)"
   ]
  },
  {
   "cell_type": "code",
   "execution_count": 225,
   "id": "bad82825-5ad9-428a-8e3e-be74ee752d8d",
   "metadata": {},
   "outputs": [],
   "source": [
    "#df_encoded.head()"
   ]
  },
  {
   "cell_type": "code",
   "execution_count": 226,
   "id": "f0463935-e002-4962-97c0-6de9f5a25e98",
   "metadata": {},
   "outputs": [
    {
     "data": {
      "text/plain": [
       "Index(['age', 'rest_BP', 'cholestrol', 'fasting_bs', 'max_HR',\n",
       "       'excercise_angina', 'oldpeak', 'num', 'sex_Male',\n",
       "       'Chest_pain_atypical angina', 'Chest_pain_non-anginal',\n",
       "       'Chest_pain_typical angina', 'restecg_normal',\n",
       "       'restecg_st-t abnormality', 'slope_flat', 'slope_upsloping',\n",
       "       'thallassemia_normal', 'thallassemia_reversable defect'],\n",
       "      dtype='object')"
      ]
     },
     "execution_count": 226,
     "metadata": {},
     "output_type": "execute_result"
    }
   ],
   "source": [
    "df_encoded.columns"
   ]
  },
  {
   "cell_type": "code",
   "execution_count": 227,
   "id": "32ea2f54-c6ac-478b-b7cb-35eb00c5263c",
   "metadata": {},
   "outputs": [
    {
     "data": {
      "text/html": [
       "<div>\n",
       "<style scoped>\n",
       "    .dataframe tbody tr th:only-of-type {\n",
       "        vertical-align: middle;\n",
       "    }\n",
       "\n",
       "    .dataframe tbody tr th {\n",
       "        vertical-align: top;\n",
       "    }\n",
       "\n",
       "    .dataframe thead th {\n",
       "        text-align: right;\n",
       "    }\n",
       "</style>\n",
       "<table border=\"1\" class=\"dataframe\">\n",
       "  <thead>\n",
       "    <tr style=\"text-align: right;\">\n",
       "      <th></th>\n",
       "      <th>age</th>\n",
       "      <th>rest_BP</th>\n",
       "      <th>cholestrol</th>\n",
       "      <th>fasting_bs</th>\n",
       "      <th>max_HR</th>\n",
       "      <th>excercise_angina</th>\n",
       "      <th>oldpeak</th>\n",
       "      <th>num</th>\n",
       "      <th>sex_Male</th>\n",
       "      <th>Chest_pain_atypical angina</th>\n",
       "      <th>Chest_pain_non-anginal</th>\n",
       "      <th>Chest_pain_typical angina</th>\n",
       "      <th>restecg_normal</th>\n",
       "      <th>restecg_st-t abnormality</th>\n",
       "      <th>slope_flat</th>\n",
       "      <th>slope_upsloping</th>\n",
       "      <th>thallassemia_normal</th>\n",
       "      <th>thallassemia_reversable defect</th>\n",
       "    </tr>\n",
       "  </thead>\n",
       "  <tbody>\n",
       "    <tr>\n",
       "      <th>0</th>\n",
       "      <td>63</td>\n",
       "      <td>145.0</td>\n",
       "      <td>233.00</td>\n",
       "      <td>1</td>\n",
       "      <td>150</td>\n",
       "      <td>0</td>\n",
       "      <td>2.300000</td>\n",
       "      <td>0</td>\n",
       "      <td>True</td>\n",
       "      <td>0</td>\n",
       "      <td>0</td>\n",
       "      <td>True</td>\n",
       "      <td>0</td>\n",
       "      <td>0</td>\n",
       "      <td>0</td>\n",
       "      <td>0</td>\n",
       "      <td>0</td>\n",
       "      <td>0</td>\n",
       "    </tr>\n",
       "    <tr>\n",
       "      <th>1</th>\n",
       "      <td>41</td>\n",
       "      <td>135.0</td>\n",
       "      <td>203.00</td>\n",
       "      <td>0</td>\n",
       "      <td>132</td>\n",
       "      <td>0</td>\n",
       "      <td>0.000000</td>\n",
       "      <td>0</td>\n",
       "      <td>True</td>\n",
       "      <td>1</td>\n",
       "      <td>0</td>\n",
       "      <td>False</td>\n",
       "      <td>1</td>\n",
       "      <td>0</td>\n",
       "      <td>1</td>\n",
       "      <td>0</td>\n",
       "      <td>0</td>\n",
       "      <td>0</td>\n",
       "    </tr>\n",
       "    <tr>\n",
       "      <th>2</th>\n",
       "      <td>57</td>\n",
       "      <td>140.0</td>\n",
       "      <td>192.00</td>\n",
       "      <td>0</td>\n",
       "      <td>148</td>\n",
       "      <td>0</td>\n",
       "      <td>0.400000</td>\n",
       "      <td>0</td>\n",
       "      <td>True</td>\n",
       "      <td>0</td>\n",
       "      <td>0</td>\n",
       "      <td>False</td>\n",
       "      <td>1</td>\n",
       "      <td>0</td>\n",
       "      <td>1</td>\n",
       "      <td>0</td>\n",
       "      <td>0</td>\n",
       "      <td>0</td>\n",
       "    </tr>\n",
       "    <tr>\n",
       "      <th>3</th>\n",
       "      <td>52</td>\n",
       "      <td>118.0</td>\n",
       "      <td>186.00</td>\n",
       "      <td>0</td>\n",
       "      <td>190</td>\n",
       "      <td>0</td>\n",
       "      <td>0.000000</td>\n",
       "      <td>0</td>\n",
       "      <td>True</td>\n",
       "      <td>0</td>\n",
       "      <td>0</td>\n",
       "      <td>True</td>\n",
       "      <td>0</td>\n",
       "      <td>0</td>\n",
       "      <td>1</td>\n",
       "      <td>0</td>\n",
       "      <td>0</td>\n",
       "      <td>0</td>\n",
       "    </tr>\n",
       "    <tr>\n",
       "      <th>4</th>\n",
       "      <td>57</td>\n",
       "      <td>110.0</td>\n",
       "      <td>201.00</td>\n",
       "      <td>0</td>\n",
       "      <td>126</td>\n",
       "      <td>1</td>\n",
       "      <td>1.500000</td>\n",
       "      <td>0</td>\n",
       "      <td>True</td>\n",
       "      <td>0</td>\n",
       "      <td>0</td>\n",
       "      <td>False</td>\n",
       "      <td>1</td>\n",
       "      <td>0</td>\n",
       "      <td>1</td>\n",
       "      <td>0</td>\n",
       "      <td>0</td>\n",
       "      <td>0</td>\n",
       "    </tr>\n",
       "    <tr>\n",
       "      <th>...</th>\n",
       "      <td>...</td>\n",
       "      <td>...</td>\n",
       "      <td>...</td>\n",
       "      <td>...</td>\n",
       "      <td>...</td>\n",
       "      <td>...</td>\n",
       "      <td>...</td>\n",
       "      <td>...</td>\n",
       "      <td>...</td>\n",
       "      <td>...</td>\n",
       "      <td>...</td>\n",
       "      <td>...</td>\n",
       "      <td>...</td>\n",
       "      <td>...</td>\n",
       "      <td>...</td>\n",
       "      <td>...</td>\n",
       "      <td>...</td>\n",
       "      <td>...</td>\n",
       "    </tr>\n",
       "    <tr>\n",
       "      <th>902</th>\n",
       "      <td>53</td>\n",
       "      <td>125.0</td>\n",
       "      <td>36.25</td>\n",
       "      <td>0</td>\n",
       "      <td>120</td>\n",
       "      <td>0</td>\n",
       "      <td>1.500000</td>\n",
       "      <td>4</td>\n",
       "      <td>True</td>\n",
       "      <td>0</td>\n",
       "      <td>0</td>\n",
       "      <td>False</td>\n",
       "      <td>1</td>\n",
       "      <td>0</td>\n",
       "      <td>0</td>\n",
       "      <td>1</td>\n",
       "      <td>0</td>\n",
       "      <td>1</td>\n",
       "    </tr>\n",
       "    <tr>\n",
       "      <th>903</th>\n",
       "      <td>62</td>\n",
       "      <td>166.0</td>\n",
       "      <td>170.00</td>\n",
       "      <td>0</td>\n",
       "      <td>120</td>\n",
       "      <td>1</td>\n",
       "      <td>3.000000</td>\n",
       "      <td>4</td>\n",
       "      <td>True</td>\n",
       "      <td>0</td>\n",
       "      <td>0</td>\n",
       "      <td>False</td>\n",
       "      <td>0</td>\n",
       "      <td>1</td>\n",
       "      <td>1</td>\n",
       "      <td>0</td>\n",
       "      <td>0</td>\n",
       "      <td>1</td>\n",
       "    </tr>\n",
       "    <tr>\n",
       "      <th>904</th>\n",
       "      <td>56</td>\n",
       "      <td>170.0</td>\n",
       "      <td>36.25</td>\n",
       "      <td>0</td>\n",
       "      <td>123</td>\n",
       "      <td>1</td>\n",
       "      <td>2.500000</td>\n",
       "      <td>4</td>\n",
       "      <td>True</td>\n",
       "      <td>0</td>\n",
       "      <td>1</td>\n",
       "      <td>False</td>\n",
       "      <td>0</td>\n",
       "      <td>0</td>\n",
       "      <td>0</td>\n",
       "      <td>0</td>\n",
       "      <td>1</td>\n",
       "      <td>0</td>\n",
       "    </tr>\n",
       "    <tr>\n",
       "      <th>905</th>\n",
       "      <td>56</td>\n",
       "      <td>144.0</td>\n",
       "      <td>208.00</td>\n",
       "      <td>1</td>\n",
       "      <td>105</td>\n",
       "      <td>1</td>\n",
       "      <td>0.892308</td>\n",
       "      <td>4</td>\n",
       "      <td>True</td>\n",
       "      <td>0</td>\n",
       "      <td>1</td>\n",
       "      <td>False</td>\n",
       "      <td>0</td>\n",
       "      <td>1</td>\n",
       "      <td>0</td>\n",
       "      <td>0</td>\n",
       "      <td>0</td>\n",
       "      <td>0</td>\n",
       "    </tr>\n",
       "    <tr>\n",
       "      <th>906</th>\n",
       "      <td>57</td>\n",
       "      <td>142.0</td>\n",
       "      <td>277.00</td>\n",
       "      <td>1</td>\n",
       "      <td>182</td>\n",
       "      <td>0</td>\n",
       "      <td>0.892308</td>\n",
       "      <td>4</td>\n",
       "      <td>True</td>\n",
       "      <td>0</td>\n",
       "      <td>0</td>\n",
       "      <td>False</td>\n",
       "      <td>0</td>\n",
       "      <td>1</td>\n",
       "      <td>1</td>\n",
       "      <td>0</td>\n",
       "      <td>0</td>\n",
       "      <td>1</td>\n",
       "    </tr>\n",
       "  </tbody>\n",
       "</table>\n",
       "<p>907 rows × 18 columns</p>\n",
       "</div>"
      ],
      "text/plain": [
       "     age  rest_BP  cholestrol  fasting_bs  max_HR  excercise_angina   oldpeak  \\\n",
       "0     63    145.0      233.00           1     150                 0  2.300000   \n",
       "1     41    135.0      203.00           0     132                 0  0.000000   \n",
       "2     57    140.0      192.00           0     148                 0  0.400000   \n",
       "3     52    118.0      186.00           0     190                 0  0.000000   \n",
       "4     57    110.0      201.00           0     126                 1  1.500000   \n",
       "..   ...      ...         ...         ...     ...               ...       ...   \n",
       "902   53    125.0       36.25           0     120                 0  1.500000   \n",
       "903   62    166.0      170.00           0     120                 1  3.000000   \n",
       "904   56    170.0       36.25           0     123                 1  2.500000   \n",
       "905   56    144.0      208.00           1     105                 1  0.892308   \n",
       "906   57    142.0      277.00           1     182                 0  0.892308   \n",
       "\n",
       "     num  sex_Male  Chest_pain_atypical angina  Chest_pain_non-anginal  \\\n",
       "0      0      True                           0                       0   \n",
       "1      0      True                           1                       0   \n",
       "2      0      True                           0                       0   \n",
       "3      0      True                           0                       0   \n",
       "4      0      True                           0                       0   \n",
       "..   ...       ...                         ...                     ...   \n",
       "902    4      True                           0                       0   \n",
       "903    4      True                           0                       0   \n",
       "904    4      True                           0                       1   \n",
       "905    4      True                           0                       1   \n",
       "906    4      True                           0                       0   \n",
       "\n",
       "     Chest_pain_typical angina  restecg_normal  restecg_st-t abnormality  \\\n",
       "0                         True               0                         0   \n",
       "1                        False               1                         0   \n",
       "2                        False               1                         0   \n",
       "3                         True               0                         0   \n",
       "4                        False               1                         0   \n",
       "..                         ...             ...                       ...   \n",
       "902                      False               1                         0   \n",
       "903                      False               0                         1   \n",
       "904                      False               0                         0   \n",
       "905                      False               0                         1   \n",
       "906                      False               0                         1   \n",
       "\n",
       "     slope_flat  slope_upsloping  thallassemia_normal  \\\n",
       "0             0                0                    0   \n",
       "1             1                0                    0   \n",
       "2             1                0                    0   \n",
       "3             1                0                    0   \n",
       "4             1                0                    0   \n",
       "..          ...              ...                  ...   \n",
       "902           0                1                    0   \n",
       "903           1                0                    0   \n",
       "904           0                0                    1   \n",
       "905           0                0                    0   \n",
       "906           1                0                    0   \n",
       "\n",
       "     thallassemia_reversable defect  \n",
       "0                                 0  \n",
       "1                                 0  \n",
       "2                                 0  \n",
       "3                                 0  \n",
       "4                                 0  \n",
       "..                              ...  \n",
       "902                               1  \n",
       "903                               1  \n",
       "904                               0  \n",
       "905                               0  \n",
       "906                               1  \n",
       "\n",
       "[907 rows x 18 columns]"
      ]
     },
     "execution_count": 227,
     "metadata": {},
     "output_type": "execute_result"
    }
   ],
   "source": [
    "df_encoded"
   ]
  },
  {
   "cell_type": "code",
   "execution_count": 228,
   "id": "a33195a4-5c5c-4171-b105-79fa27939756",
   "metadata": {
    "scrolled": true
   },
   "outputs": [
    {
     "data": {
      "text/html": [
       "<div>\n",
       "<style scoped>\n",
       "    .dataframe tbody tr th:only-of-type {\n",
       "        vertical-align: middle;\n",
       "    }\n",
       "\n",
       "    .dataframe tbody tr th {\n",
       "        vertical-align: top;\n",
       "    }\n",
       "\n",
       "    .dataframe thead th {\n",
       "        text-align: right;\n",
       "    }\n",
       "</style>\n",
       "<table border=\"1\" class=\"dataframe\">\n",
       "  <thead>\n",
       "    <tr style=\"text-align: right;\">\n",
       "      <th></th>\n",
       "      <th>age</th>\n",
       "      <th>rest_BP</th>\n",
       "      <th>cholestrol</th>\n",
       "      <th>fasting_bs</th>\n",
       "      <th>max_HR</th>\n",
       "      <th>excercise_angina</th>\n",
       "      <th>oldpeak</th>\n",
       "      <th>num</th>\n",
       "      <th>sex_Male</th>\n",
       "      <th>Chest_pain_atypical angina</th>\n",
       "      <th>Chest_pain_non-anginal</th>\n",
       "      <th>Chest_pain_typical angina</th>\n",
       "      <th>restecg_normal</th>\n",
       "      <th>restecg_st-t abnormality</th>\n",
       "      <th>slope_flat</th>\n",
       "      <th>slope_upsloping</th>\n",
       "      <th>thallassemia_normal</th>\n",
       "      <th>thallassemia_reversable defect</th>\n",
       "    </tr>\n",
       "  </thead>\n",
       "  <tbody>\n",
       "    <tr>\n",
       "      <th>age</th>\n",
       "      <td>1.000000</td>\n",
       "      <td>0.261741</td>\n",
       "      <td>-0.092618</td>\n",
       "      <td>0.177004</td>\n",
       "      <td>-0.327868</td>\n",
       "      <td>0.192202</td>\n",
       "      <td>0.236688</td>\n",
       "      <td>0.326227</td>\n",
       "      <td>0.051947</td>\n",
       "      <td>-0.184421</td>\n",
       "      <td>-0.021998</td>\n",
       "      <td>0.036915</td>\n",
       "      <td>-0.226296</td>\n",
       "      <td>0.133051</td>\n",
       "      <td>0.074264</td>\n",
       "      <td>-0.079106</td>\n",
       "      <td>-0.039482</td>\n",
       "      <td>0.064602</td>\n",
       "    </tr>\n",
       "    <tr>\n",
       "      <th>rest_BP</th>\n",
       "      <td>0.261741</td>\n",
       "      <td>1.000000</td>\n",
       "      <td>0.126318</td>\n",
       "      <td>0.113043</td>\n",
       "      <td>-0.131223</td>\n",
       "      <td>0.150065</td>\n",
       "      <td>0.159684</td>\n",
       "      <td>0.141934</td>\n",
       "      <td>0.018717</td>\n",
       "      <td>-0.049280</td>\n",
       "      <td>0.000213</td>\n",
       "      <td>0.045554</td>\n",
       "      <td>-0.116703</td>\n",
       "      <td>0.117114</td>\n",
       "      <td>0.072251</td>\n",
       "      <td>-0.030522</td>\n",
       "      <td>-0.084160</td>\n",
       "      <td>0.091467</td>\n",
       "    </tr>\n",
       "    <tr>\n",
       "      <th>cholestrol</th>\n",
       "      <td>-0.092618</td>\n",
       "      <td>0.126318</td>\n",
       "      <td>1.000000</td>\n",
       "      <td>-0.112193</td>\n",
       "      <td>0.194934</td>\n",
       "      <td>-0.027979</td>\n",
       "      <td>0.030639</td>\n",
       "      <td>-0.228771</td>\n",
       "      <td>-0.194599</td>\n",
       "      <td>0.145559</td>\n",
       "      <td>-0.005675</td>\n",
       "      <td>0.011546</td>\n",
       "      <td>-0.034460</td>\n",
       "      <td>-0.133716</td>\n",
       "      <td>-0.007665</td>\n",
       "      <td>0.039921</td>\n",
       "      <td>0.048695</td>\n",
       "      <td>-0.036606</td>\n",
       "    </tr>\n",
       "    <tr>\n",
       "      <th>fasting_bs</th>\n",
       "      <td>0.177004</td>\n",
       "      <td>0.113043</td>\n",
       "      <td>-0.112193</td>\n",
       "      <td>1.000000</td>\n",
       "      <td>-0.065827</td>\n",
       "      <td>0.028502</td>\n",
       "      <td>0.026590</td>\n",
       "      <td>0.156839</td>\n",
       "      <td>0.092480</td>\n",
       "      <td>-0.075572</td>\n",
       "      <td>-0.034208</td>\n",
       "      <td>0.022951</td>\n",
       "      <td>-0.109089</td>\n",
       "      <td>0.121897</td>\n",
       "      <td>0.025184</td>\n",
       "      <td>-0.033688</td>\n",
       "      <td>-0.052747</td>\n",
       "      <td>0.013669</td>\n",
       "    </tr>\n",
       "    <tr>\n",
       "      <th>max_HR</th>\n",
       "      <td>-0.327868</td>\n",
       "      <td>-0.131223</td>\n",
       "      <td>0.194934</td>\n",
       "      <td>-0.065827</td>\n",
       "      <td>1.000000</td>\n",
       "      <td>-0.348668</td>\n",
       "      <td>-0.132695</td>\n",
       "      <td>-0.322632</td>\n",
       "      <td>-0.178484</td>\n",
       "      <td>0.220847</td>\n",
       "      <td>0.121594</td>\n",
       "      <td>0.080531</td>\n",
       "      <td>0.041575</td>\n",
       "      <td>-0.180856</td>\n",
       "      <td>-0.220563</td>\n",
       "      <td>0.281344</td>\n",
       "      <td>0.167220</td>\n",
       "      <td>-0.080547</td>\n",
       "    </tr>\n",
       "    <tr>\n",
       "      <th>excercise_angina</th>\n",
       "      <td>0.192202</td>\n",
       "      <td>0.150065</td>\n",
       "      <td>-0.027979</td>\n",
       "      <td>0.028502</td>\n",
       "      <td>-0.348668</td>\n",
       "      <td>1.000000</td>\n",
       "      <td>0.380289</td>\n",
       "      <td>0.358837</td>\n",
       "      <td>0.186884</td>\n",
       "      <td>-0.277009</td>\n",
       "      <td>-0.176974</td>\n",
       "      <td>-0.118263</td>\n",
       "      <td>-0.074497</td>\n",
       "      <td>0.112848</td>\n",
       "      <td>0.220593</td>\n",
       "      <td>-0.234913</td>\n",
       "      <td>-0.171906</td>\n",
       "      <td>0.152701</td>\n",
       "    </tr>\n",
       "    <tr>\n",
       "      <th>oldpeak</th>\n",
       "      <td>0.236688</td>\n",
       "      <td>0.159684</td>\n",
       "      <td>0.030639</td>\n",
       "      <td>0.026590</td>\n",
       "      <td>-0.132695</td>\n",
       "      <td>0.380289</td>\n",
       "      <td>1.000000</td>\n",
       "      <td>0.418080</td>\n",
       "      <td>0.108269</td>\n",
       "      <td>-0.248252</td>\n",
       "      <td>-0.111558</td>\n",
       "      <td>0.040549</td>\n",
       "      <td>-0.109111</td>\n",
       "      <td>0.044214</td>\n",
       "      <td>0.215500</td>\n",
       "      <td>-0.247755</td>\n",
       "      <td>-0.147367</td>\n",
       "      <td>0.142999</td>\n",
       "    </tr>\n",
       "    <tr>\n",
       "      <th>num</th>\n",
       "      <td>0.326227</td>\n",
       "      <td>0.141934</td>\n",
       "      <td>-0.228771</td>\n",
       "      <td>0.156839</td>\n",
       "      <td>-0.322632</td>\n",
       "      <td>0.358837</td>\n",
       "      <td>0.418080</td>\n",
       "      <td>1.000000</td>\n",
       "      <td>0.259258</td>\n",
       "      <td>-0.335455</td>\n",
       "      <td>-0.163444</td>\n",
       "      <td>-0.054802</td>\n",
       "      <td>-0.165450</td>\n",
       "      <td>0.130134</td>\n",
       "      <td>0.164815</td>\n",
       "      <td>-0.195553</td>\n",
       "      <td>-0.212488</td>\n",
       "      <td>0.205019</td>\n",
       "    </tr>\n",
       "    <tr>\n",
       "      <th>sex_Male</th>\n",
       "      <td>0.051947</td>\n",
       "      <td>0.018717</td>\n",
       "      <td>-0.194599</td>\n",
       "      <td>0.092480</td>\n",
       "      <td>-0.178484</td>\n",
       "      <td>0.186884</td>\n",
       "      <td>0.108269</td>\n",
       "      <td>0.259258</td>\n",
       "      <td>1.000000</td>\n",
       "      <td>-0.171612</td>\n",
       "      <td>-0.069576</td>\n",
       "      <td>0.005324</td>\n",
       "      <td>-0.013596</td>\n",
       "      <td>0.070181</td>\n",
       "      <td>0.021107</td>\n",
       "      <td>-0.043692</td>\n",
       "      <td>-0.166363</td>\n",
       "      <td>0.136545</td>\n",
       "    </tr>\n",
       "    <tr>\n",
       "      <th>Chest_pain_atypical angina</th>\n",
       "      <td>-0.184421</td>\n",
       "      <td>-0.049280</td>\n",
       "      <td>0.145559</td>\n",
       "      <td>-0.075572</td>\n",
       "      <td>0.220847</td>\n",
       "      <td>-0.277009</td>\n",
       "      <td>-0.248252</td>\n",
       "      <td>-0.335455</td>\n",
       "      <td>-0.171612</td>\n",
       "      <td>1.000000</td>\n",
       "      <td>-0.252418</td>\n",
       "      <td>-0.107744</td>\n",
       "      <td>0.107236</td>\n",
       "      <td>-0.045921</td>\n",
       "      <td>-0.088077</td>\n",
       "      <td>0.077814</td>\n",
       "      <td>0.040253</td>\n",
       "      <td>-0.070272</td>\n",
       "    </tr>\n",
       "    <tr>\n",
       "      <th>Chest_pain_non-anginal</th>\n",
       "      <td>-0.021998</td>\n",
       "      <td>0.000213</td>\n",
       "      <td>-0.005675</td>\n",
       "      <td>-0.034208</td>\n",
       "      <td>0.121594</td>\n",
       "      <td>-0.176974</td>\n",
       "      <td>-0.111558</td>\n",
       "      <td>-0.163444</td>\n",
       "      <td>-0.069576</td>\n",
       "      <td>-0.252418</td>\n",
       "      <td>1.000000</td>\n",
       "      <td>-0.122302</td>\n",
       "      <td>0.006971</td>\n",
       "      <td>-0.044321</td>\n",
       "      <td>-0.121305</td>\n",
       "      <td>0.122043</td>\n",
       "      <td>0.097875</td>\n",
       "      <td>-0.065782</td>\n",
       "    </tr>\n",
       "    <tr>\n",
       "      <th>Chest_pain_typical angina</th>\n",
       "      <td>0.036915</td>\n",
       "      <td>0.045554</td>\n",
       "      <td>0.011546</td>\n",
       "      <td>0.022951</td>\n",
       "      <td>0.080531</td>\n",
       "      <td>-0.118263</td>\n",
       "      <td>0.040549</td>\n",
       "      <td>-0.054802</td>\n",
       "      <td>0.005324</td>\n",
       "      <td>-0.107744</td>\n",
       "      <td>-0.122302</td>\n",
       "      <td>1.000000</td>\n",
       "      <td>-0.060993</td>\n",
       "      <td>-0.010628</td>\n",
       "      <td>-0.004825</td>\n",
       "      <td>0.013134</td>\n",
       "      <td>0.050321</td>\n",
       "      <td>-0.064456</td>\n",
       "    </tr>\n",
       "    <tr>\n",
       "      <th>restecg_normal</th>\n",
       "      <td>-0.226296</td>\n",
       "      <td>-0.116703</td>\n",
       "      <td>-0.034460</td>\n",
       "      <td>-0.109089</td>\n",
       "      <td>0.041575</td>\n",
       "      <td>-0.074497</td>\n",
       "      <td>-0.109111</td>\n",
       "      <td>-0.165450</td>\n",
       "      <td>-0.013596</td>\n",
       "      <td>0.107236</td>\n",
       "      <td>0.006971</td>\n",
       "      <td>-0.060993</td>\n",
       "      <td>1.000000</td>\n",
       "      <td>-0.602143</td>\n",
       "      <td>0.023827</td>\n",
       "      <td>-0.000369</td>\n",
       "      <td>-0.041240</td>\n",
       "      <td>0.014993</td>\n",
       "    </tr>\n",
       "    <tr>\n",
       "      <th>restecg_st-t abnormality</th>\n",
       "      <td>0.133051</td>\n",
       "      <td>0.117114</td>\n",
       "      <td>-0.133716</td>\n",
       "      <td>0.121897</td>\n",
       "      <td>-0.180856</td>\n",
       "      <td>0.112848</td>\n",
       "      <td>0.044214</td>\n",
       "      <td>0.130134</td>\n",
       "      <td>0.070181</td>\n",
       "      <td>-0.045921</td>\n",
       "      <td>-0.044321</td>\n",
       "      <td>-0.010628</td>\n",
       "      <td>-0.602143</td>\n",
       "      <td>1.000000</td>\n",
       "      <td>-0.010559</td>\n",
       "      <td>-0.050137</td>\n",
       "      <td>-0.048059</td>\n",
       "      <td>-0.039450</td>\n",
       "    </tr>\n",
       "    <tr>\n",
       "      <th>slope_flat</th>\n",
       "      <td>0.074264</td>\n",
       "      <td>0.072251</td>\n",
       "      <td>-0.007665</td>\n",
       "      <td>0.025184</td>\n",
       "      <td>-0.220563</td>\n",
       "      <td>0.220593</td>\n",
       "      <td>0.215500</td>\n",
       "      <td>0.164815</td>\n",
       "      <td>0.021107</td>\n",
       "      <td>-0.088077</td>\n",
       "      <td>-0.121305</td>\n",
       "      <td>-0.004825</td>\n",
       "      <td>0.023827</td>\n",
       "      <td>-0.010559</td>\n",
       "      <td>1.000000</td>\n",
       "      <td>-0.698748</td>\n",
       "      <td>-0.126201</td>\n",
       "      <td>0.096196</td>\n",
       "    </tr>\n",
       "    <tr>\n",
       "      <th>slope_upsloping</th>\n",
       "      <td>-0.079106</td>\n",
       "      <td>-0.030522</td>\n",
       "      <td>0.039921</td>\n",
       "      <td>-0.033688</td>\n",
       "      <td>0.281344</td>\n",
       "      <td>-0.234913</td>\n",
       "      <td>-0.247755</td>\n",
       "      <td>-0.195553</td>\n",
       "      <td>-0.043692</td>\n",
       "      <td>0.077814</td>\n",
       "      <td>0.122043</td>\n",
       "      <td>0.013134</td>\n",
       "      <td>-0.000369</td>\n",
       "      <td>-0.050137</td>\n",
       "      <td>-0.698748</td>\n",
       "      <td>1.000000</td>\n",
       "      <td>0.135382</td>\n",
       "      <td>-0.061277</td>\n",
       "    </tr>\n",
       "    <tr>\n",
       "      <th>thallassemia_normal</th>\n",
       "      <td>-0.039482</td>\n",
       "      <td>-0.084160</td>\n",
       "      <td>0.048695</td>\n",
       "      <td>-0.052747</td>\n",
       "      <td>0.167220</td>\n",
       "      <td>-0.171906</td>\n",
       "      <td>-0.147367</td>\n",
       "      <td>-0.212488</td>\n",
       "      <td>-0.166363</td>\n",
       "      <td>0.040253</td>\n",
       "      <td>0.097875</td>\n",
       "      <td>0.050321</td>\n",
       "      <td>-0.041240</td>\n",
       "      <td>-0.048059</td>\n",
       "      <td>-0.126201</td>\n",
       "      <td>0.135382</td>\n",
       "      <td>1.000000</td>\n",
       "      <td>-0.674453</td>\n",
       "    </tr>\n",
       "    <tr>\n",
       "      <th>thallassemia_reversable defect</th>\n",
       "      <td>0.064602</td>\n",
       "      <td>0.091467</td>\n",
       "      <td>-0.036606</td>\n",
       "      <td>0.013669</td>\n",
       "      <td>-0.080547</td>\n",
       "      <td>0.152701</td>\n",
       "      <td>0.142999</td>\n",
       "      <td>0.205019</td>\n",
       "      <td>0.136545</td>\n",
       "      <td>-0.070272</td>\n",
       "      <td>-0.065782</td>\n",
       "      <td>-0.064456</td>\n",
       "      <td>0.014993</td>\n",
       "      <td>-0.039450</td>\n",
       "      <td>0.096196</td>\n",
       "      <td>-0.061277</td>\n",
       "      <td>-0.674453</td>\n",
       "      <td>1.000000</td>\n",
       "    </tr>\n",
       "  </tbody>\n",
       "</table>\n",
       "</div>"
      ],
      "text/plain": [
       "                                     age   rest_BP  cholestrol  fasting_bs  \\\n",
       "age                             1.000000  0.261741   -0.092618    0.177004   \n",
       "rest_BP                         0.261741  1.000000    0.126318    0.113043   \n",
       "cholestrol                     -0.092618  0.126318    1.000000   -0.112193   \n",
       "fasting_bs                      0.177004  0.113043   -0.112193    1.000000   \n",
       "max_HR                         -0.327868 -0.131223    0.194934   -0.065827   \n",
       "excercise_angina                0.192202  0.150065   -0.027979    0.028502   \n",
       "oldpeak                         0.236688  0.159684    0.030639    0.026590   \n",
       "num                             0.326227  0.141934   -0.228771    0.156839   \n",
       "sex_Male                        0.051947  0.018717   -0.194599    0.092480   \n",
       "Chest_pain_atypical angina     -0.184421 -0.049280    0.145559   -0.075572   \n",
       "Chest_pain_non-anginal         -0.021998  0.000213   -0.005675   -0.034208   \n",
       "Chest_pain_typical angina       0.036915  0.045554    0.011546    0.022951   \n",
       "restecg_normal                 -0.226296 -0.116703   -0.034460   -0.109089   \n",
       "restecg_st-t abnormality        0.133051  0.117114   -0.133716    0.121897   \n",
       "slope_flat                      0.074264  0.072251   -0.007665    0.025184   \n",
       "slope_upsloping                -0.079106 -0.030522    0.039921   -0.033688   \n",
       "thallassemia_normal            -0.039482 -0.084160    0.048695   -0.052747   \n",
       "thallassemia_reversable defect  0.064602  0.091467   -0.036606    0.013669   \n",
       "\n",
       "                                  max_HR  excercise_angina   oldpeak  \\\n",
       "age                            -0.327868          0.192202  0.236688   \n",
       "rest_BP                        -0.131223          0.150065  0.159684   \n",
       "cholestrol                      0.194934         -0.027979  0.030639   \n",
       "fasting_bs                     -0.065827          0.028502  0.026590   \n",
       "max_HR                          1.000000         -0.348668 -0.132695   \n",
       "excercise_angina               -0.348668          1.000000  0.380289   \n",
       "oldpeak                        -0.132695          0.380289  1.000000   \n",
       "num                            -0.322632          0.358837  0.418080   \n",
       "sex_Male                       -0.178484          0.186884  0.108269   \n",
       "Chest_pain_atypical angina      0.220847         -0.277009 -0.248252   \n",
       "Chest_pain_non-anginal          0.121594         -0.176974 -0.111558   \n",
       "Chest_pain_typical angina       0.080531         -0.118263  0.040549   \n",
       "restecg_normal                  0.041575         -0.074497 -0.109111   \n",
       "restecg_st-t abnormality       -0.180856          0.112848  0.044214   \n",
       "slope_flat                     -0.220563          0.220593  0.215500   \n",
       "slope_upsloping                 0.281344         -0.234913 -0.247755   \n",
       "thallassemia_normal             0.167220         -0.171906 -0.147367   \n",
       "thallassemia_reversable defect -0.080547          0.152701  0.142999   \n",
       "\n",
       "                                     num  sex_Male  \\\n",
       "age                             0.326227  0.051947   \n",
       "rest_BP                         0.141934  0.018717   \n",
       "cholestrol                     -0.228771 -0.194599   \n",
       "fasting_bs                      0.156839  0.092480   \n",
       "max_HR                         -0.322632 -0.178484   \n",
       "excercise_angina                0.358837  0.186884   \n",
       "oldpeak                         0.418080  0.108269   \n",
       "num                             1.000000  0.259258   \n",
       "sex_Male                        0.259258  1.000000   \n",
       "Chest_pain_atypical angina     -0.335455 -0.171612   \n",
       "Chest_pain_non-anginal         -0.163444 -0.069576   \n",
       "Chest_pain_typical angina      -0.054802  0.005324   \n",
       "restecg_normal                 -0.165450 -0.013596   \n",
       "restecg_st-t abnormality        0.130134  0.070181   \n",
       "slope_flat                      0.164815  0.021107   \n",
       "slope_upsloping                -0.195553 -0.043692   \n",
       "thallassemia_normal            -0.212488 -0.166363   \n",
       "thallassemia_reversable defect  0.205019  0.136545   \n",
       "\n",
       "                                Chest_pain_atypical angina  \\\n",
       "age                                              -0.184421   \n",
       "rest_BP                                          -0.049280   \n",
       "cholestrol                                        0.145559   \n",
       "fasting_bs                                       -0.075572   \n",
       "max_HR                                            0.220847   \n",
       "excercise_angina                                 -0.277009   \n",
       "oldpeak                                          -0.248252   \n",
       "num                                              -0.335455   \n",
       "sex_Male                                         -0.171612   \n",
       "Chest_pain_atypical angina                        1.000000   \n",
       "Chest_pain_non-anginal                           -0.252418   \n",
       "Chest_pain_typical angina                        -0.107744   \n",
       "restecg_normal                                    0.107236   \n",
       "restecg_st-t abnormality                         -0.045921   \n",
       "slope_flat                                       -0.088077   \n",
       "slope_upsloping                                   0.077814   \n",
       "thallassemia_normal                               0.040253   \n",
       "thallassemia_reversable defect                   -0.070272   \n",
       "\n",
       "                                Chest_pain_non-anginal  \\\n",
       "age                                          -0.021998   \n",
       "rest_BP                                       0.000213   \n",
       "cholestrol                                   -0.005675   \n",
       "fasting_bs                                   -0.034208   \n",
       "max_HR                                        0.121594   \n",
       "excercise_angina                             -0.176974   \n",
       "oldpeak                                      -0.111558   \n",
       "num                                          -0.163444   \n",
       "sex_Male                                     -0.069576   \n",
       "Chest_pain_atypical angina                   -0.252418   \n",
       "Chest_pain_non-anginal                        1.000000   \n",
       "Chest_pain_typical angina                    -0.122302   \n",
       "restecg_normal                                0.006971   \n",
       "restecg_st-t abnormality                     -0.044321   \n",
       "slope_flat                                   -0.121305   \n",
       "slope_upsloping                               0.122043   \n",
       "thallassemia_normal                           0.097875   \n",
       "thallassemia_reversable defect               -0.065782   \n",
       "\n",
       "                                Chest_pain_typical angina  restecg_normal  \\\n",
       "age                                              0.036915       -0.226296   \n",
       "rest_BP                                          0.045554       -0.116703   \n",
       "cholestrol                                       0.011546       -0.034460   \n",
       "fasting_bs                                       0.022951       -0.109089   \n",
       "max_HR                                           0.080531        0.041575   \n",
       "excercise_angina                                -0.118263       -0.074497   \n",
       "oldpeak                                          0.040549       -0.109111   \n",
       "num                                             -0.054802       -0.165450   \n",
       "sex_Male                                         0.005324       -0.013596   \n",
       "Chest_pain_atypical angina                      -0.107744        0.107236   \n",
       "Chest_pain_non-anginal                          -0.122302        0.006971   \n",
       "Chest_pain_typical angina                        1.000000       -0.060993   \n",
       "restecg_normal                                  -0.060993        1.000000   \n",
       "restecg_st-t abnormality                        -0.010628       -0.602143   \n",
       "slope_flat                                      -0.004825        0.023827   \n",
       "slope_upsloping                                  0.013134       -0.000369   \n",
       "thallassemia_normal                              0.050321       -0.041240   \n",
       "thallassemia_reversable defect                  -0.064456        0.014993   \n",
       "\n",
       "                                restecg_st-t abnormality  slope_flat  \\\n",
       "age                                             0.133051    0.074264   \n",
       "rest_BP                                         0.117114    0.072251   \n",
       "cholestrol                                     -0.133716   -0.007665   \n",
       "fasting_bs                                      0.121897    0.025184   \n",
       "max_HR                                         -0.180856   -0.220563   \n",
       "excercise_angina                                0.112848    0.220593   \n",
       "oldpeak                                         0.044214    0.215500   \n",
       "num                                             0.130134    0.164815   \n",
       "sex_Male                                        0.070181    0.021107   \n",
       "Chest_pain_atypical angina                     -0.045921   -0.088077   \n",
       "Chest_pain_non-anginal                         -0.044321   -0.121305   \n",
       "Chest_pain_typical angina                      -0.010628   -0.004825   \n",
       "restecg_normal                                 -0.602143    0.023827   \n",
       "restecg_st-t abnormality                        1.000000   -0.010559   \n",
       "slope_flat                                     -0.010559    1.000000   \n",
       "slope_upsloping                                -0.050137   -0.698748   \n",
       "thallassemia_normal                            -0.048059   -0.126201   \n",
       "thallassemia_reversable defect                 -0.039450    0.096196   \n",
       "\n",
       "                                slope_upsloping  thallassemia_normal  \\\n",
       "age                                   -0.079106            -0.039482   \n",
       "rest_BP                               -0.030522            -0.084160   \n",
       "cholestrol                             0.039921             0.048695   \n",
       "fasting_bs                            -0.033688            -0.052747   \n",
       "max_HR                                 0.281344             0.167220   \n",
       "excercise_angina                      -0.234913            -0.171906   \n",
       "oldpeak                               -0.247755            -0.147367   \n",
       "num                                   -0.195553            -0.212488   \n",
       "sex_Male                              -0.043692            -0.166363   \n",
       "Chest_pain_atypical angina             0.077814             0.040253   \n",
       "Chest_pain_non-anginal                 0.122043             0.097875   \n",
       "Chest_pain_typical angina              0.013134             0.050321   \n",
       "restecg_normal                        -0.000369            -0.041240   \n",
       "restecg_st-t abnormality              -0.050137            -0.048059   \n",
       "slope_flat                            -0.698748            -0.126201   \n",
       "slope_upsloping                        1.000000             0.135382   \n",
       "thallassemia_normal                    0.135382             1.000000   \n",
       "thallassemia_reversable defect        -0.061277            -0.674453   \n",
       "\n",
       "                                thallassemia_reversable defect  \n",
       "age                                                   0.064602  \n",
       "rest_BP                                               0.091467  \n",
       "cholestrol                                           -0.036606  \n",
       "fasting_bs                                            0.013669  \n",
       "max_HR                                               -0.080547  \n",
       "excercise_angina                                      0.152701  \n",
       "oldpeak                                               0.142999  \n",
       "num                                                   0.205019  \n",
       "sex_Male                                              0.136545  \n",
       "Chest_pain_atypical angina                           -0.070272  \n",
       "Chest_pain_non-anginal                               -0.065782  \n",
       "Chest_pain_typical angina                            -0.064456  \n",
       "restecg_normal                                        0.014993  \n",
       "restecg_st-t abnormality                             -0.039450  \n",
       "slope_flat                                            0.096196  \n",
       "slope_upsloping                                      -0.061277  \n",
       "thallassemia_normal                                  -0.674453  \n",
       "thallassemia_reversable defect                        1.000000  "
      ]
     },
     "execution_count": 228,
     "metadata": {},
     "output_type": "execute_result"
    }
   ],
   "source": [
    "df_encoded.corr()"
   ]
  },
  {
   "cell_type": "code",
   "execution_count": 229,
   "id": "1f88d0fb-36a0-490a-8bab-09c45cdfd0b6",
   "metadata": {},
   "outputs": [],
   "source": [
    "X=df_encoded.drop(columns='num')\n",
    "y=df_encoded['num']"
   ]
  },
  {
   "cell_type": "code",
   "execution_count": 230,
   "id": "1d2281e8-ca87-4d28-a2f2-70505ac2c4f7",
   "metadata": {},
   "outputs": [],
   "source": [
    "numeric_cols = ['age', 'rest_BP', 'cholestrol', 'max_HR', 'oldpeak']  # continuous columns\n",
    "scaler = StandardScaler()\n",
    "X[numeric_cols] = scaler.fit_transform(X[numeric_cols])"
   ]
  },
  {
   "cell_type": "code",
   "execution_count": 231,
   "id": "8580e634-feaa-459c-90d6-c51995d94ab8",
   "metadata": {},
   "outputs": [],
   "source": [
    "X_train,X_test,y_train,y_test=train_test_split(X,y,test_size=0.2,random_state=40)"
   ]
  },
  {
   "cell_type": "code",
   "execution_count": 232,
   "id": "907f91b6-ac5f-43a7-9ff6-63287dc79ccf",
   "metadata": {},
   "outputs": [],
   "source": [
    "model=DecisionTreeClassifier(criterion='entropy')"
   ]
  },
  {
   "cell_type": "code",
   "execution_count": 233,
   "id": "07cc3902-d5c6-4e68-8054-0bd86f59aff1",
   "metadata": {},
   "outputs": [
    {
     "data": {
      "text/html": [
       "<style>#sk-container-id-2 {\n",
       "  /* Definition of color scheme common for light and dark mode */\n",
       "  --sklearn-color-text: #000;\n",
       "  --sklearn-color-text-muted: #666;\n",
       "  --sklearn-color-line: gray;\n",
       "  /* Definition of color scheme for unfitted estimators */\n",
       "  --sklearn-color-unfitted-level-0: #fff5e6;\n",
       "  --sklearn-color-unfitted-level-1: #f6e4d2;\n",
       "  --sklearn-color-unfitted-level-2: #ffe0b3;\n",
       "  --sklearn-color-unfitted-level-3: chocolate;\n",
       "  /* Definition of color scheme for fitted estimators */\n",
       "  --sklearn-color-fitted-level-0: #f0f8ff;\n",
       "  --sklearn-color-fitted-level-1: #d4ebff;\n",
       "  --sklearn-color-fitted-level-2: #b3dbfd;\n",
       "  --sklearn-color-fitted-level-3: cornflowerblue;\n",
       "\n",
       "  /* Specific color for light theme */\n",
       "  --sklearn-color-text-on-default-background: var(--sg-text-color, var(--theme-code-foreground, var(--jp-content-font-color1, black)));\n",
       "  --sklearn-color-background: var(--sg-background-color, var(--theme-background, var(--jp-layout-color0, white)));\n",
       "  --sklearn-color-border-box: var(--sg-text-color, var(--theme-code-foreground, var(--jp-content-font-color1, black)));\n",
       "  --sklearn-color-icon: #696969;\n",
       "\n",
       "  @media (prefers-color-scheme: dark) {\n",
       "    /* Redefinition of color scheme for dark theme */\n",
       "    --sklearn-color-text-on-default-background: var(--sg-text-color, var(--theme-code-foreground, var(--jp-content-font-color1, white)));\n",
       "    --sklearn-color-background: var(--sg-background-color, var(--theme-background, var(--jp-layout-color0, #111)));\n",
       "    --sklearn-color-border-box: var(--sg-text-color, var(--theme-code-foreground, var(--jp-content-font-color1, white)));\n",
       "    --sklearn-color-icon: #878787;\n",
       "  }\n",
       "}\n",
       "\n",
       "#sk-container-id-2 {\n",
       "  color: var(--sklearn-color-text);\n",
       "}\n",
       "\n",
       "#sk-container-id-2 pre {\n",
       "  padding: 0;\n",
       "}\n",
       "\n",
       "#sk-container-id-2 input.sk-hidden--visually {\n",
       "  border: 0;\n",
       "  clip: rect(1px 1px 1px 1px);\n",
       "  clip: rect(1px, 1px, 1px, 1px);\n",
       "  height: 1px;\n",
       "  margin: -1px;\n",
       "  overflow: hidden;\n",
       "  padding: 0;\n",
       "  position: absolute;\n",
       "  width: 1px;\n",
       "}\n",
       "\n",
       "#sk-container-id-2 div.sk-dashed-wrapped {\n",
       "  border: 1px dashed var(--sklearn-color-line);\n",
       "  margin: 0 0.4em 0.5em 0.4em;\n",
       "  box-sizing: border-box;\n",
       "  padding-bottom: 0.4em;\n",
       "  background-color: var(--sklearn-color-background);\n",
       "}\n",
       "\n",
       "#sk-container-id-2 div.sk-container {\n",
       "  /* jupyter's `normalize.less` sets `[hidden] { display: none; }`\n",
       "     but bootstrap.min.css set `[hidden] { display: none !important; }`\n",
       "     so we also need the `!important` here to be able to override the\n",
       "     default hidden behavior on the sphinx rendered scikit-learn.org.\n",
       "     See: https://github.com/scikit-learn/scikit-learn/issues/21755 */\n",
       "  display: inline-block !important;\n",
       "  position: relative;\n",
       "}\n",
       "\n",
       "#sk-container-id-2 div.sk-text-repr-fallback {\n",
       "  display: none;\n",
       "}\n",
       "\n",
       "div.sk-parallel-item,\n",
       "div.sk-serial,\n",
       "div.sk-item {\n",
       "  /* draw centered vertical line to link estimators */\n",
       "  background-image: linear-gradient(var(--sklearn-color-text-on-default-background), var(--sklearn-color-text-on-default-background));\n",
       "  background-size: 2px 100%;\n",
       "  background-repeat: no-repeat;\n",
       "  background-position: center center;\n",
       "}\n",
       "\n",
       "/* Parallel-specific style estimator block */\n",
       "\n",
       "#sk-container-id-2 div.sk-parallel-item::after {\n",
       "  content: \"\";\n",
       "  width: 100%;\n",
       "  border-bottom: 2px solid var(--sklearn-color-text-on-default-background);\n",
       "  flex-grow: 1;\n",
       "}\n",
       "\n",
       "#sk-container-id-2 div.sk-parallel {\n",
       "  display: flex;\n",
       "  align-items: stretch;\n",
       "  justify-content: center;\n",
       "  background-color: var(--sklearn-color-background);\n",
       "  position: relative;\n",
       "}\n",
       "\n",
       "#sk-container-id-2 div.sk-parallel-item {\n",
       "  display: flex;\n",
       "  flex-direction: column;\n",
       "}\n",
       "\n",
       "#sk-container-id-2 div.sk-parallel-item:first-child::after {\n",
       "  align-self: flex-end;\n",
       "  width: 50%;\n",
       "}\n",
       "\n",
       "#sk-container-id-2 div.sk-parallel-item:last-child::after {\n",
       "  align-self: flex-start;\n",
       "  width: 50%;\n",
       "}\n",
       "\n",
       "#sk-container-id-2 div.sk-parallel-item:only-child::after {\n",
       "  width: 0;\n",
       "}\n",
       "\n",
       "/* Serial-specific style estimator block */\n",
       "\n",
       "#sk-container-id-2 div.sk-serial {\n",
       "  display: flex;\n",
       "  flex-direction: column;\n",
       "  align-items: center;\n",
       "  background-color: var(--sklearn-color-background);\n",
       "  padding-right: 1em;\n",
       "  padding-left: 1em;\n",
       "}\n",
       "\n",
       "\n",
       "/* Toggleable style: style used for estimator/Pipeline/ColumnTransformer box that is\n",
       "clickable and can be expanded/collapsed.\n",
       "- Pipeline and ColumnTransformer use this feature and define the default style\n",
       "- Estimators will overwrite some part of the style using the `sk-estimator` class\n",
       "*/\n",
       "\n",
       "/* Pipeline and ColumnTransformer style (default) */\n",
       "\n",
       "#sk-container-id-2 div.sk-toggleable {\n",
       "  /* Default theme specific background. It is overwritten whether we have a\n",
       "  specific estimator or a Pipeline/ColumnTransformer */\n",
       "  background-color: var(--sklearn-color-background);\n",
       "}\n",
       "\n",
       "/* Toggleable label */\n",
       "#sk-container-id-2 label.sk-toggleable__label {\n",
       "  cursor: pointer;\n",
       "  display: flex;\n",
       "  width: 100%;\n",
       "  margin-bottom: 0;\n",
       "  padding: 0.5em;\n",
       "  box-sizing: border-box;\n",
       "  text-align: center;\n",
       "  align-items: start;\n",
       "  justify-content: space-between;\n",
       "  gap: 0.5em;\n",
       "}\n",
       "\n",
       "#sk-container-id-2 label.sk-toggleable__label .caption {\n",
       "  font-size: 0.6rem;\n",
       "  font-weight: lighter;\n",
       "  color: var(--sklearn-color-text-muted);\n",
       "}\n",
       "\n",
       "#sk-container-id-2 label.sk-toggleable__label-arrow:before {\n",
       "  /* Arrow on the left of the label */\n",
       "  content: \"▸\";\n",
       "  float: left;\n",
       "  margin-right: 0.25em;\n",
       "  color: var(--sklearn-color-icon);\n",
       "}\n",
       "\n",
       "#sk-container-id-2 label.sk-toggleable__label-arrow:hover:before {\n",
       "  color: var(--sklearn-color-text);\n",
       "}\n",
       "\n",
       "/* Toggleable content - dropdown */\n",
       "\n",
       "#sk-container-id-2 div.sk-toggleable__content {\n",
       "  display: none;\n",
       "  text-align: left;\n",
       "  /* unfitted */\n",
       "  background-color: var(--sklearn-color-unfitted-level-0);\n",
       "}\n",
       "\n",
       "#sk-container-id-2 div.sk-toggleable__content.fitted {\n",
       "  /* fitted */\n",
       "  background-color: var(--sklearn-color-fitted-level-0);\n",
       "}\n",
       "\n",
       "#sk-container-id-2 div.sk-toggleable__content pre {\n",
       "  margin: 0.2em;\n",
       "  border-radius: 0.25em;\n",
       "  color: var(--sklearn-color-text);\n",
       "  /* unfitted */\n",
       "  background-color: var(--sklearn-color-unfitted-level-0);\n",
       "}\n",
       "\n",
       "#sk-container-id-2 div.sk-toggleable__content.fitted pre {\n",
       "  /* unfitted */\n",
       "  background-color: var(--sklearn-color-fitted-level-0);\n",
       "}\n",
       "\n",
       "#sk-container-id-2 input.sk-toggleable__control:checked~div.sk-toggleable__content {\n",
       "  /* Expand drop-down */\n",
       "  display: block;\n",
       "  width: 100%;\n",
       "  overflow: visible;\n",
       "}\n",
       "\n",
       "#sk-container-id-2 input.sk-toggleable__control:checked~label.sk-toggleable__label-arrow:before {\n",
       "  content: \"▾\";\n",
       "}\n",
       "\n",
       "/* Pipeline/ColumnTransformer-specific style */\n",
       "\n",
       "#sk-container-id-2 div.sk-label input.sk-toggleable__control:checked~label.sk-toggleable__label {\n",
       "  color: var(--sklearn-color-text);\n",
       "  background-color: var(--sklearn-color-unfitted-level-2);\n",
       "}\n",
       "\n",
       "#sk-container-id-2 div.sk-label.fitted input.sk-toggleable__control:checked~label.sk-toggleable__label {\n",
       "  background-color: var(--sklearn-color-fitted-level-2);\n",
       "}\n",
       "\n",
       "/* Estimator-specific style */\n",
       "\n",
       "/* Colorize estimator box */\n",
       "#sk-container-id-2 div.sk-estimator input.sk-toggleable__control:checked~label.sk-toggleable__label {\n",
       "  /* unfitted */\n",
       "  background-color: var(--sklearn-color-unfitted-level-2);\n",
       "}\n",
       "\n",
       "#sk-container-id-2 div.sk-estimator.fitted input.sk-toggleable__control:checked~label.sk-toggleable__label {\n",
       "  /* fitted */\n",
       "  background-color: var(--sklearn-color-fitted-level-2);\n",
       "}\n",
       "\n",
       "#sk-container-id-2 div.sk-label label.sk-toggleable__label,\n",
       "#sk-container-id-2 div.sk-label label {\n",
       "  /* The background is the default theme color */\n",
       "  color: var(--sklearn-color-text-on-default-background);\n",
       "}\n",
       "\n",
       "/* On hover, darken the color of the background */\n",
       "#sk-container-id-2 div.sk-label:hover label.sk-toggleable__label {\n",
       "  color: var(--sklearn-color-text);\n",
       "  background-color: var(--sklearn-color-unfitted-level-2);\n",
       "}\n",
       "\n",
       "/* Label box, darken color on hover, fitted */\n",
       "#sk-container-id-2 div.sk-label.fitted:hover label.sk-toggleable__label.fitted {\n",
       "  color: var(--sklearn-color-text);\n",
       "  background-color: var(--sklearn-color-fitted-level-2);\n",
       "}\n",
       "\n",
       "/* Estimator label */\n",
       "\n",
       "#sk-container-id-2 div.sk-label label {\n",
       "  font-family: monospace;\n",
       "  font-weight: bold;\n",
       "  display: inline-block;\n",
       "  line-height: 1.2em;\n",
       "}\n",
       "\n",
       "#sk-container-id-2 div.sk-label-container {\n",
       "  text-align: center;\n",
       "}\n",
       "\n",
       "/* Estimator-specific */\n",
       "#sk-container-id-2 div.sk-estimator {\n",
       "  font-family: monospace;\n",
       "  border: 1px dotted var(--sklearn-color-border-box);\n",
       "  border-radius: 0.25em;\n",
       "  box-sizing: border-box;\n",
       "  margin-bottom: 0.5em;\n",
       "  /* unfitted */\n",
       "  background-color: var(--sklearn-color-unfitted-level-0);\n",
       "}\n",
       "\n",
       "#sk-container-id-2 div.sk-estimator.fitted {\n",
       "  /* fitted */\n",
       "  background-color: var(--sklearn-color-fitted-level-0);\n",
       "}\n",
       "\n",
       "/* on hover */\n",
       "#sk-container-id-2 div.sk-estimator:hover {\n",
       "  /* unfitted */\n",
       "  background-color: var(--sklearn-color-unfitted-level-2);\n",
       "}\n",
       "\n",
       "#sk-container-id-2 div.sk-estimator.fitted:hover {\n",
       "  /* fitted */\n",
       "  background-color: var(--sklearn-color-fitted-level-2);\n",
       "}\n",
       "\n",
       "/* Specification for estimator info (e.g. \"i\" and \"?\") */\n",
       "\n",
       "/* Common style for \"i\" and \"?\" */\n",
       "\n",
       ".sk-estimator-doc-link,\n",
       "a:link.sk-estimator-doc-link,\n",
       "a:visited.sk-estimator-doc-link {\n",
       "  float: right;\n",
       "  font-size: smaller;\n",
       "  line-height: 1em;\n",
       "  font-family: monospace;\n",
       "  background-color: var(--sklearn-color-background);\n",
       "  border-radius: 1em;\n",
       "  height: 1em;\n",
       "  width: 1em;\n",
       "  text-decoration: none !important;\n",
       "  margin-left: 0.5em;\n",
       "  text-align: center;\n",
       "  /* unfitted */\n",
       "  border: var(--sklearn-color-unfitted-level-1) 1pt solid;\n",
       "  color: var(--sklearn-color-unfitted-level-1);\n",
       "}\n",
       "\n",
       ".sk-estimator-doc-link.fitted,\n",
       "a:link.sk-estimator-doc-link.fitted,\n",
       "a:visited.sk-estimator-doc-link.fitted {\n",
       "  /* fitted */\n",
       "  border: var(--sklearn-color-fitted-level-1) 1pt solid;\n",
       "  color: var(--sklearn-color-fitted-level-1);\n",
       "}\n",
       "\n",
       "/* On hover */\n",
       "div.sk-estimator:hover .sk-estimator-doc-link:hover,\n",
       ".sk-estimator-doc-link:hover,\n",
       "div.sk-label-container:hover .sk-estimator-doc-link:hover,\n",
       ".sk-estimator-doc-link:hover {\n",
       "  /* unfitted */\n",
       "  background-color: var(--sklearn-color-unfitted-level-3);\n",
       "  color: var(--sklearn-color-background);\n",
       "  text-decoration: none;\n",
       "}\n",
       "\n",
       "div.sk-estimator.fitted:hover .sk-estimator-doc-link.fitted:hover,\n",
       ".sk-estimator-doc-link.fitted:hover,\n",
       "div.sk-label-container:hover .sk-estimator-doc-link.fitted:hover,\n",
       ".sk-estimator-doc-link.fitted:hover {\n",
       "  /* fitted */\n",
       "  background-color: var(--sklearn-color-fitted-level-3);\n",
       "  color: var(--sklearn-color-background);\n",
       "  text-decoration: none;\n",
       "}\n",
       "\n",
       "/* Span, style for the box shown on hovering the info icon */\n",
       ".sk-estimator-doc-link span {\n",
       "  display: none;\n",
       "  z-index: 9999;\n",
       "  position: relative;\n",
       "  font-weight: normal;\n",
       "  right: .2ex;\n",
       "  padding: .5ex;\n",
       "  margin: .5ex;\n",
       "  width: min-content;\n",
       "  min-width: 20ex;\n",
       "  max-width: 50ex;\n",
       "  color: var(--sklearn-color-text);\n",
       "  box-shadow: 2pt 2pt 4pt #999;\n",
       "  /* unfitted */\n",
       "  background: var(--sklearn-color-unfitted-level-0);\n",
       "  border: .5pt solid var(--sklearn-color-unfitted-level-3);\n",
       "}\n",
       "\n",
       ".sk-estimator-doc-link.fitted span {\n",
       "  /* fitted */\n",
       "  background: var(--sklearn-color-fitted-level-0);\n",
       "  border: var(--sklearn-color-fitted-level-3);\n",
       "}\n",
       "\n",
       ".sk-estimator-doc-link:hover span {\n",
       "  display: block;\n",
       "}\n",
       "\n",
       "/* \"?\"-specific style due to the `<a>` HTML tag */\n",
       "\n",
       "#sk-container-id-2 a.estimator_doc_link {\n",
       "  float: right;\n",
       "  font-size: 1rem;\n",
       "  line-height: 1em;\n",
       "  font-family: monospace;\n",
       "  background-color: var(--sklearn-color-background);\n",
       "  border-radius: 1rem;\n",
       "  height: 1rem;\n",
       "  width: 1rem;\n",
       "  text-decoration: none;\n",
       "  /* unfitted */\n",
       "  color: var(--sklearn-color-unfitted-level-1);\n",
       "  border: var(--sklearn-color-unfitted-level-1) 1pt solid;\n",
       "}\n",
       "\n",
       "#sk-container-id-2 a.estimator_doc_link.fitted {\n",
       "  /* fitted */\n",
       "  border: var(--sklearn-color-fitted-level-1) 1pt solid;\n",
       "  color: var(--sklearn-color-fitted-level-1);\n",
       "}\n",
       "\n",
       "/* On hover */\n",
       "#sk-container-id-2 a.estimator_doc_link:hover {\n",
       "  /* unfitted */\n",
       "  background-color: var(--sklearn-color-unfitted-level-3);\n",
       "  color: var(--sklearn-color-background);\n",
       "  text-decoration: none;\n",
       "}\n",
       "\n",
       "#sk-container-id-2 a.estimator_doc_link.fitted:hover {\n",
       "  /* fitted */\n",
       "  background-color: var(--sklearn-color-fitted-level-3);\n",
       "}\n",
       "\n",
       ".estimator-table summary {\n",
       "    padding: .5rem;\n",
       "    font-family: monospace;\n",
       "    cursor: pointer;\n",
       "}\n",
       "\n",
       ".estimator-table details[open] {\n",
       "    padding-left: 0.1rem;\n",
       "    padding-right: 0.1rem;\n",
       "    padding-bottom: 0.3rem;\n",
       "}\n",
       "\n",
       ".estimator-table .parameters-table {\n",
       "    margin-left: auto !important;\n",
       "    margin-right: auto !important;\n",
       "}\n",
       "\n",
       ".estimator-table .parameters-table tr:nth-child(odd) {\n",
       "    background-color: #fff;\n",
       "}\n",
       "\n",
       ".estimator-table .parameters-table tr:nth-child(even) {\n",
       "    background-color: #f6f6f6;\n",
       "}\n",
       "\n",
       ".estimator-table .parameters-table tr:hover {\n",
       "    background-color: #e0e0e0;\n",
       "}\n",
       "\n",
       ".estimator-table table td {\n",
       "    border: 1px solid rgba(106, 105, 104, 0.232);\n",
       "}\n",
       "\n",
       ".user-set td {\n",
       "    color:rgb(255, 94, 0);\n",
       "    text-align: left;\n",
       "}\n",
       "\n",
       ".user-set td.value pre {\n",
       "    color:rgb(255, 94, 0) !important;\n",
       "    background-color: transparent !important;\n",
       "}\n",
       "\n",
       ".default td {\n",
       "    color: black;\n",
       "    text-align: left;\n",
       "}\n",
       "\n",
       ".user-set td i,\n",
       ".default td i {\n",
       "    color: black;\n",
       "}\n",
       "\n",
       ".copy-paste-icon {\n",
       "    background-image: url(data:image/svg+xml;base64,PHN2ZyB4bWxucz0iaHR0cDovL3d3dy53My5vcmcvMjAwMC9zdmciIHZpZXdCb3g9IjAgMCA0NDggNTEyIj48IS0tIUZvbnQgQXdlc29tZSBGcmVlIDYuNy4yIGJ5IEBmb250YXdlc29tZSAtIGh0dHBzOi8vZm9udGF3ZXNvbWUuY29tIExpY2Vuc2UgLSBodHRwczovL2ZvbnRhd2Vzb21lLmNvbS9saWNlbnNlL2ZyZWUgQ29weXJpZ2h0IDIwMjUgRm9udGljb25zLCBJbmMuLS0+PHBhdGggZD0iTTIwOCAwTDMzMi4xIDBjMTIuNyAwIDI0LjkgNS4xIDMzLjkgMTQuMWw2Ny45IDY3LjljOSA5IDE0LjEgMjEuMiAxNC4xIDMzLjlMNDQ4IDMzNmMwIDI2LjUtMjEuNSA0OC00OCA0OGwtMTkyIDBjLTI2LjUgMC00OC0yMS41LTQ4LTQ4bDAtMjg4YzAtMjYuNSAyMS41LTQ4IDQ4LTQ4ek00OCAxMjhsODAgMCAwIDY0LTY0IDAgMCAyNTYgMTkyIDAgMC0zMiA2NCAwIDAgNDhjMCAyNi41LTIxLjUgNDgtNDggNDhMNDggNTEyYy0yNi41IDAtNDgtMjEuNS00OC00OEwwIDE3NmMwLTI2LjUgMjEuNS00OCA0OC00OHoiLz48L3N2Zz4=);\n",
       "    background-repeat: no-repeat;\n",
       "    background-size: 14px 14px;\n",
       "    background-position: 0;\n",
       "    display: inline-block;\n",
       "    width: 14px;\n",
       "    height: 14px;\n",
       "    cursor: pointer;\n",
       "}\n",
       "</style><body><div id=\"sk-container-id-2\" class=\"sk-top-container\"><div class=\"sk-text-repr-fallback\"><pre>DecisionTreeClassifier(criterion=&#x27;entropy&#x27;)</pre><b>In a Jupyter environment, please rerun this cell to show the HTML representation or trust the notebook. <br />On GitHub, the HTML representation is unable to render, please try loading this page with nbviewer.org.</b></div><div class=\"sk-container\" hidden><div class=\"sk-item\"><div class=\"sk-estimator fitted sk-toggleable\"><input class=\"sk-toggleable__control sk-hidden--visually\" id=\"sk-estimator-id-2\" type=\"checkbox\" checked><label for=\"sk-estimator-id-2\" class=\"sk-toggleable__label fitted sk-toggleable__label-arrow\"><div><div>DecisionTreeClassifier</div></div><div><a class=\"sk-estimator-doc-link fitted\" rel=\"noreferrer\" target=\"_blank\" href=\"https://scikit-learn.org/1.7/modules/generated/sklearn.tree.DecisionTreeClassifier.html\">?<span>Documentation for DecisionTreeClassifier</span></a><span class=\"sk-estimator-doc-link fitted\">i<span>Fitted</span></span></div></label><div class=\"sk-toggleable__content fitted\" data-param-prefix=\"\">\n",
       "        <div class=\"estimator-table\">\n",
       "            <details>\n",
       "                <summary>Parameters</summary>\n",
       "                <table class=\"parameters-table\">\n",
       "                  <tbody>\n",
       "                    \n",
       "        <tr class=\"user-set\">\n",
       "            <td><i class=\"copy-paste-icon\"\n",
       "                 onclick=\"copyToClipboard('criterion',\n",
       "                          this.parentElement.nextElementSibling)\"\n",
       "            ></i></td>\n",
       "            <td class=\"param\">criterion&nbsp;</td>\n",
       "            <td class=\"value\">&#x27;entropy&#x27;</td>\n",
       "        </tr>\n",
       "    \n",
       "\n",
       "        <tr class=\"default\">\n",
       "            <td><i class=\"copy-paste-icon\"\n",
       "                 onclick=\"copyToClipboard('splitter',\n",
       "                          this.parentElement.nextElementSibling)\"\n",
       "            ></i></td>\n",
       "            <td class=\"param\">splitter&nbsp;</td>\n",
       "            <td class=\"value\">&#x27;best&#x27;</td>\n",
       "        </tr>\n",
       "    \n",
       "\n",
       "        <tr class=\"default\">\n",
       "            <td><i class=\"copy-paste-icon\"\n",
       "                 onclick=\"copyToClipboard('max_depth',\n",
       "                          this.parentElement.nextElementSibling)\"\n",
       "            ></i></td>\n",
       "            <td class=\"param\">max_depth&nbsp;</td>\n",
       "            <td class=\"value\">None</td>\n",
       "        </tr>\n",
       "    \n",
       "\n",
       "        <tr class=\"default\">\n",
       "            <td><i class=\"copy-paste-icon\"\n",
       "                 onclick=\"copyToClipboard('min_samples_split',\n",
       "                          this.parentElement.nextElementSibling)\"\n",
       "            ></i></td>\n",
       "            <td class=\"param\">min_samples_split&nbsp;</td>\n",
       "            <td class=\"value\">2</td>\n",
       "        </tr>\n",
       "    \n",
       "\n",
       "        <tr class=\"default\">\n",
       "            <td><i class=\"copy-paste-icon\"\n",
       "                 onclick=\"copyToClipboard('min_samples_leaf',\n",
       "                          this.parentElement.nextElementSibling)\"\n",
       "            ></i></td>\n",
       "            <td class=\"param\">min_samples_leaf&nbsp;</td>\n",
       "            <td class=\"value\">1</td>\n",
       "        </tr>\n",
       "    \n",
       "\n",
       "        <tr class=\"default\">\n",
       "            <td><i class=\"copy-paste-icon\"\n",
       "                 onclick=\"copyToClipboard('min_weight_fraction_leaf',\n",
       "                          this.parentElement.nextElementSibling)\"\n",
       "            ></i></td>\n",
       "            <td class=\"param\">min_weight_fraction_leaf&nbsp;</td>\n",
       "            <td class=\"value\">0.0</td>\n",
       "        </tr>\n",
       "    \n",
       "\n",
       "        <tr class=\"default\">\n",
       "            <td><i class=\"copy-paste-icon\"\n",
       "                 onclick=\"copyToClipboard('max_features',\n",
       "                          this.parentElement.nextElementSibling)\"\n",
       "            ></i></td>\n",
       "            <td class=\"param\">max_features&nbsp;</td>\n",
       "            <td class=\"value\">None</td>\n",
       "        </tr>\n",
       "    \n",
       "\n",
       "        <tr class=\"default\">\n",
       "            <td><i class=\"copy-paste-icon\"\n",
       "                 onclick=\"copyToClipboard('random_state',\n",
       "                          this.parentElement.nextElementSibling)\"\n",
       "            ></i></td>\n",
       "            <td class=\"param\">random_state&nbsp;</td>\n",
       "            <td class=\"value\">None</td>\n",
       "        </tr>\n",
       "    \n",
       "\n",
       "        <tr class=\"default\">\n",
       "            <td><i class=\"copy-paste-icon\"\n",
       "                 onclick=\"copyToClipboard('max_leaf_nodes',\n",
       "                          this.parentElement.nextElementSibling)\"\n",
       "            ></i></td>\n",
       "            <td class=\"param\">max_leaf_nodes&nbsp;</td>\n",
       "            <td class=\"value\">None</td>\n",
       "        </tr>\n",
       "    \n",
       "\n",
       "        <tr class=\"default\">\n",
       "            <td><i class=\"copy-paste-icon\"\n",
       "                 onclick=\"copyToClipboard('min_impurity_decrease',\n",
       "                          this.parentElement.nextElementSibling)\"\n",
       "            ></i></td>\n",
       "            <td class=\"param\">min_impurity_decrease&nbsp;</td>\n",
       "            <td class=\"value\">0.0</td>\n",
       "        </tr>\n",
       "    \n",
       "\n",
       "        <tr class=\"default\">\n",
       "            <td><i class=\"copy-paste-icon\"\n",
       "                 onclick=\"copyToClipboard('class_weight',\n",
       "                          this.parentElement.nextElementSibling)\"\n",
       "            ></i></td>\n",
       "            <td class=\"param\">class_weight&nbsp;</td>\n",
       "            <td class=\"value\">None</td>\n",
       "        </tr>\n",
       "    \n",
       "\n",
       "        <tr class=\"default\">\n",
       "            <td><i class=\"copy-paste-icon\"\n",
       "                 onclick=\"copyToClipboard('ccp_alpha',\n",
       "                          this.parentElement.nextElementSibling)\"\n",
       "            ></i></td>\n",
       "            <td class=\"param\">ccp_alpha&nbsp;</td>\n",
       "            <td class=\"value\">0.0</td>\n",
       "        </tr>\n",
       "    \n",
       "\n",
       "        <tr class=\"default\">\n",
       "            <td><i class=\"copy-paste-icon\"\n",
       "                 onclick=\"copyToClipboard('monotonic_cst',\n",
       "                          this.parentElement.nextElementSibling)\"\n",
       "            ></i></td>\n",
       "            <td class=\"param\">monotonic_cst&nbsp;</td>\n",
       "            <td class=\"value\">None</td>\n",
       "        </tr>\n",
       "    \n",
       "                  </tbody>\n",
       "                </table>\n",
       "            </details>\n",
       "        </div>\n",
       "    </div></div></div></div></div><script>function copyToClipboard(text, element) {\n",
       "    // Get the parameter prefix from the closest toggleable content\n",
       "    const toggleableContent = element.closest('.sk-toggleable__content');\n",
       "    const paramPrefix = toggleableContent ? toggleableContent.dataset.paramPrefix : '';\n",
       "    const fullParamName = paramPrefix ? `${paramPrefix}${text}` : text;\n",
       "\n",
       "    const originalStyle = element.style;\n",
       "    const computedStyle = window.getComputedStyle(element);\n",
       "    const originalWidth = computedStyle.width;\n",
       "    const originalHTML = element.innerHTML.replace('Copied!', '');\n",
       "\n",
       "    navigator.clipboard.writeText(fullParamName)\n",
       "        .then(() => {\n",
       "            element.style.width = originalWidth;\n",
       "            element.style.color = 'green';\n",
       "            element.innerHTML = \"Copied!\";\n",
       "\n",
       "            setTimeout(() => {\n",
       "                element.innerHTML = originalHTML;\n",
       "                element.style = originalStyle;\n",
       "            }, 2000);\n",
       "        })\n",
       "        .catch(err => {\n",
       "            console.error('Failed to copy:', err);\n",
       "            element.style.color = 'red';\n",
       "            element.innerHTML = \"Failed!\";\n",
       "            setTimeout(() => {\n",
       "                element.innerHTML = originalHTML;\n",
       "                element.style = originalStyle;\n",
       "            }, 2000);\n",
       "        });\n",
       "    return false;\n",
       "}\n",
       "\n",
       "document.querySelectorAll('.fa-regular.fa-copy').forEach(function(element) {\n",
       "    const toggleableContent = element.closest('.sk-toggleable__content');\n",
       "    const paramPrefix = toggleableContent ? toggleableContent.dataset.paramPrefix : '';\n",
       "    const paramName = element.parentElement.nextElementSibling.textContent.trim();\n",
       "    const fullParamName = paramPrefix ? `${paramPrefix}${paramName}` : paramName;\n",
       "\n",
       "    element.setAttribute('title', fullParamName);\n",
       "});\n",
       "</script></body>"
      ],
      "text/plain": [
       "DecisionTreeClassifier(criterion='entropy')"
      ]
     },
     "execution_count": 233,
     "metadata": {},
     "output_type": "execute_result"
    }
   ],
   "source": [
    "model.fit(X_train,y_train)"
   ]
  },
  {
   "cell_type": "code",
   "execution_count": 234,
   "id": "f5b4fc64-6120-4ef5-81fe-049422841f57",
   "metadata": {},
   "outputs": [
    {
     "data": {
      "text/plain": [
       "array([0, 1, 2, 3, 4])"
      ]
     },
     "execution_count": 234,
     "metadata": {},
     "output_type": "execute_result"
    }
   ],
   "source": [
    "np.unique(y_test)"
   ]
  },
  {
   "cell_type": "code",
   "execution_count": 235,
   "id": "f52ef171-faec-421f-9ac4-dd67dc26b50c",
   "metadata": {},
   "outputs": [],
   "source": [
    "y_pred=model.predict(X_test)"
   ]
  },
  {
   "cell_type": "code",
   "execution_count": 236,
   "id": "3899c1bd-5ece-4614-8c9b-36c458f69e0a",
   "metadata": {},
   "outputs": [
    {
     "name": "stdout",
     "output_type": "stream",
     "text": [
      "Accuracy: 0.510989010989011\n",
      "Precision (macro): 0.3556736392262708\n",
      "Recall (macro): 0.3610742796180386\n",
      "F1 Score (macro): 0.3572905982905983\n",
      "Confusion Matrix:\n",
      " [[60 12  5  3  2]\n",
      " [10 21  6 10  5]\n",
      " [ 0  7  4  6  0]\n",
      " [ 7  7  2  7  1]\n",
      " [ 1  1  2  2  1]]\n",
      "ROC-AUC (multiclass, OVR): 0.6148144321369445\n"
     ]
    }
   ],
   "source": [
    "print(\"Accuracy:\", accuracy_score(y_test, y_pred))\n",
    "print(\"Precision (macro):\", precision_score(y_test, y_pred, average='macro'))\n",
    "print(\"Recall (macro):\", recall_score(y_test, y_pred, average='macro'))\n",
    "print(\"F1 Score (macro):\", f1_score(y_test, y_pred, average='macro'))\n",
    "print(\"Confusion Matrix:\\n\", confusion_matrix(y_test, y_pred))\n",
    "\n",
    "y_prob = model.predict_proba(X_test) \n",
    "# ROC-AUC using One-vs-Rest\n",
    "roc_auc = roc_auc_score(y_test, y_prob, multi_class='ovr')\n",
    "print(\"ROC-AUC (multiclass, OVR):\", roc_auc)"
   ]
  },
  {
   "cell_type": "code",
   "execution_count": 237,
   "id": "6a0bde48-7856-4afe-91fc-8de9e6c7d0c4",
   "metadata": {},
   "outputs": [
    {
     "name": "stdout",
     "output_type": "stream",
     "text": [
      "Train Accuracy: 1.0\n",
      "Test Accuracy: 0.510989010989011\n"
     ]
    }
   ],
   "source": [
    "y_train_pred=model.predict(X_train)\n",
    "print(\"Train Accuracy:\", accuracy_score(y_train, y_train_pred))\n",
    "print(\"Test Accuracy:\", accuracy_score(y_test, y_pred))"
   ]
  },
  {
   "cell_type": "code",
   "execution_count": 238,
   "id": "2835d020-6047-43cf-b63a-db11c98f0d7d",
   "metadata": {},
   "outputs": [],
   "source": [
    "model_1=DecisionTreeClassifier(criterion= 'gini', max_depth= 3, min_samples_leaf= 1, min_samples_split= 2)"
   ]
  },
  {
   "cell_type": "code",
   "execution_count": 239,
   "id": "ed645eaf-7178-4425-9b54-b37d96e442dc",
   "metadata": {},
   "outputs": [
    {
     "name": "stdout",
     "output_type": "stream",
     "text": [
      "Train Accuracy: 0.5848275862068966\n"
     ]
    }
   ],
   "source": [
    "model_1.fit(X_train,y_train)\n",
    "y_train_pred=model_1.predict(X_train)\n",
    "print(\"Train Accuracy:\", accuracy_score(y_train, y_train_pred))"
   ]
  },
  {
   "cell_type": "code",
   "execution_count": 240,
   "id": "cee20a03-af56-4426-9492-bd43b911b3c5",
   "metadata": {},
   "outputs": [
    {
     "name": "stdout",
     "output_type": "stream",
     "text": [
      "Best parameters: {'criterion': 'gini', 'max_depth': 3, 'min_samples_leaf': 1, 'min_samples_split': 2}\n",
      "Accuracy: 0.5824175824175825\n",
      "Precision: 0.28885572139303484\n",
      "Recall: 0.32714196372732957\n",
      "F1 Score: 0.3024348200818789\n"
     ]
    }
   ],
   "source": [
    "# Define hyperparameter grid\n",
    "param_grid = {\n",
    "    'max_depth': [3, 5, 7, 10, None],\n",
    "    'min_samples_split': [2, 5, 10,20],\n",
    "    'min_samples_leaf': [1, 2, 5,10],\n",
    "    'criterion': ['gini', 'entropy']\n",
    "}\n",
    "\n",
    "# Grid search with cross-validation\n",
    "grid_search = GridSearchCV(DecisionTreeClassifier(random_state=42), param_grid, \n",
    "                           cv=5, scoring='f1', n_jobs=-1)\n",
    "grid_search.fit(X_train, y_train)\n",
    "\n",
    "print(\"Best parameters:\", grid_search.best_params_)\n",
    "\n",
    "# Train best model\n",
    "best_dt = grid_search.best_estimator_\n",
    "y_pred_best = best_dt.predict(X_test)\n",
    "y_prob_best = best_dt.predict_proba(X_test)[:,1]\n",
    "\n",
    "# Evaluate best model\n",
    "print(\"Accuracy:\", accuracy_score(y_test, y_pred_best))\n",
    "print(\"Precision:\", precision_score(y_test, y_pred_best, average='macro'))\n",
    "print(\"Recall:\", recall_score(y_test, y_pred_best, average='macro'))\n",
    "print(\"F1 Score:\", f1_score(y_test, y_pred_best, average='macro'))"
   ]
  },
  {
   "cell_type": "code",
   "execution_count": 244,
   "id": "223a3bae-2e03-404c-bee2-ff8c9ed21ad7",
   "metadata": {},
   "outputs": [
    {
     "data": {
      "image/png": "[encoded data removed]",
      "text/plain": [
       "<Figure size 2000x1000 with 1 Axes>"
      ]
     },
     "metadata": {},
     "output_type": "display_data"
    }
   ],
   "source": [
    "plt.figure(figsize=(20,10))\n",
    "plot_tree(best_dt, feature_names=X.columns, class_names=['No Disease','Disease1','Disease2','Disease3','Disease4'], \n",
    "          filled=True, rounded=True, fontsize=10)\n",
    "plt.show()"
   ]
  },
  {
   "cell_type": "code",
   "execution_count": 242,
   "id": "a568a676-7076-4830-89dd-3a2b0fe462f7",
   "metadata": {},
   "outputs": [
    {
     "name": "stdout",
     "output_type": "stream",
     "text": [
      "Feature Importances:\n",
      " excercise_angina                  0.443381\n",
      "cholestrol                        0.267308\n",
      "max_HR                            0.104182\n",
      "Chest_pain_atypical angina        0.093225\n",
      "age                               0.067959\n",
      "restecg_st-t abnormality          0.023945\n",
      "fasting_bs                        0.000000\n",
      "oldpeak                           0.000000\n",
      "rest_BP                           0.000000\n",
      "sex_Male                          0.000000\n",
      "Chest_pain_non-anginal            0.000000\n",
      "Chest_pain_typical angina         0.000000\n",
      "restecg_normal                    0.000000\n",
      "slope_flat                        0.000000\n",
      "slope_upsloping                   0.000000\n",
      "thallassemia_normal               0.000000\n",
      "thallassemia_reversable defect    0.000000\n",
      "dtype: float64\n"
     ]
    },
    {
     "data": {
      "image/png": "[encoded data removed]",
      "text/plain": [
       "<Figure size 1200x600 with 1 Axes>"
      ]
     },
     "metadata": {},
     "output_type": "display_data"
    }
   ],
   "source": [
    "importances = pd.Series(best_dt.feature_importances_, index=X.columns)\n",
    "importances.sort_values(ascending=False, inplace=True)\n",
    "print(\"Feature Importances:\\n\", importances)\n",
    "\n",
    "# Optional: bar plot\n",
    "importances.plot(kind='bar', figsize=(12,6))\n",
    "plt.title(\"Feature Importance in Decision Tree\")\n",
    "plt.show()\n"
   ]
  },
  {
   "cell_type": "code",
   "execution_count": null,
   "id": "1fd0e128-af1f-463d-9513-0a0836e84d39",
   "metadata": {},
   "outputs": [],
   "source": []
  }
 ],
 "metadata": {
  "kernelspec": {
   "display_name": "Python 3 (ipykernel)",
   "language": "python",
   "name": "python3"
  },
  "language_info": {
   "codemirror_mode": {
    "name": "ipython",
    "version": 3
   },
   "file_extension": ".py",
   "mimetype": "text/x-python",
   "name": "python",
   "nbconvert_exporter": "python",
   "pygments_lexer": "ipython3",
   "version": "3.13.2"
  }
 },
 "nbformat": 4,
 "nbformat_minor": 5
}
